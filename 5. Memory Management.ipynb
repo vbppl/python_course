{
 "cells": [
  {
   "cell_type": "markdown",
   "metadata": {},
   "source": [
    "\n",
    "# **Memory Management**\n",
    "\n",
    "#### **Variable**\n",
    "Variable is a container which is a named storage location that stores a value in it.\n",
    "- **Defining Variable**: Variable is created when you assign a value to a variable.  \n",
    "\tFor Example:"
   ]
  },
  {
   "cell_type": "code",
   "execution_count": 1,
   "metadata": {},
   "outputs": [
    {
     "ename": "NameError",
     "evalue": "name 'x' is not defined",
     "output_type": "error",
     "traceback": [
      "\u001b[31m---------------------------------------------------------------------------\u001b[39m",
      "\u001b[31mNameError\u001b[39m                                 Traceback (most recent call last)",
      "\u001b[36mCell\u001b[39m\u001b[36m \u001b[39m\u001b[32mIn[1]\u001b[39m\u001b[32m, line 1\u001b[39m\n\u001b[32m----> \u001b[39m\u001b[32m1\u001b[39m \u001b[38;5;28mprint\u001b[39m(\u001b[43mx\u001b[49m)\n\u001b[32m      2\u001b[39m x = \u001b[32m10\u001b[39m\n\u001b[32m      3\u001b[39m \u001b[38;5;28mprint\u001b[39m(x)\n",
      "\u001b[31mNameError\u001b[39m: name 'x' is not defined"
     ]
    }
   ],
   "source": [
    "print(x)\n",
    "x = 10\n",
    "print(x)"
   ]
  },
  {
   "cell_type": "markdown",
   "metadata": {},
   "source": [
    "> Above example show that variable is not created until the value is assigned to it.\n",
    "\n",
    "- **Multiple Assignments**\n",
    "\t- Assigning the same value to multiple variables<br>\n",
    "\t\tFor Example:\n",
    "\t\t```python\n",
    "\t\ta = b = c = 20\n",
    "\t\tprint(\"a:\", a, \"b:\", b, \"c:\", c)\n",
    "\n",
    "\t\tx = y = z = \"Hi\"\n",
    "\t\tprint(\"x:\", x, \"y:\", y, \"z:\", z)\n",
    "\t\t```\n",
    "\t\tAbove example will assign 10 to all variables a, b, c and \"Hi\" to all variables x, y, z.\n",
    "\n",
    "\t\tOutput:\n",
    "\t\t```python\n",
    "\t\ta: 20 b: 20 c: 20\n",
    "\t\tx: Hi y: Hi z: Hi\n",
    "\t\t```\n",
    "\n",
    "\t- Assigning different values to multiple variables <br>\n",
    "\t\tFor Example:\n",
    "\t\t```python\n",
    "\t\ta, b, c = 10, 20.5, \"Hi\"\n",
    "\t\tprint(a, b, c)\n",
    "\t\t```\n",
    "\t\tAbove example will assign 10 to variable a, 20.5 to variable b and \"Hi\" to variable c.\n",
    "\n",
    "\t\t```python\n",
    "\t\ta, b, c = 10, 4, 6\n",
    "\t\tprint(\"a:\", a, \"b:\", b, \"c:\", c)\n",
    "\t\tc, b, a = a, b, c\n",
    "\t\tprint(\"a:\", a, \"b:\", b, \"c:\", c)\n",
    "\t\tc, b, a = a - b, b + 5, c * 2\n",
    "\t\tprint(\"a:\", a, \"b:\", b, \"c:\", c)\n",
    "\t\t```\n",
    "\t\tOutput:\n",
    "\t\t```python\n",
    "\t\ta: 10 b: 4 c: 6\n",
    "\t\ta: 6 b: 4 c: 10\n",
    "\t\ta: 20 b: 9 c: 2\n",
    "\t\t```"
   ]
  },
  {
   "cell_type": "markdown",
   "metadata": {},
   "source": [
    "\n",
    "Now let's explore how memory management works in different programming languages such as C, C++, and Python.\n",
    "For example, consider a simple variable assignment like:\n",
    "```python\n",
    "price = 15  \n",
    "price = 35\n",
    "```  \n",
    "How does memory management handle this in C, C++, and Python? What happens behind the scenes when such a variable assignment is performed?\n",
    "\n",
    "> In C & C++:\n",
    "> ![Memmory Management c & c++](images/MemoryManagementc&c++.png)\n",
    ">\n",
    "> In  c and c++, when we assign a value to a variable and later change the value to another variable with same name, then the previous value of the variable will be lost and the new value will be assigned to the variable with the same memory location.\n",
    ">\n",
    "> In the above example, when the first statement `price = 15` is executed, the value 15 is stored at memory location 100, and the price variable points to this memory location.  \n",
    "When the second statement `price = 10` is executed, the new value 10 overwrites the previous value at the same memory location 100. As a result, the original value 15 is lost, and price now holds the value 10 at the same memory address."
   ]
  },
  {
   "cell_type": "markdown",
   "metadata": {},
   "source": [
    "> In python:\n",
    "> ![Memmory Management Python](images/MemoryManagementPython.png)\n",
    ">\n",
    "> In python, when we assign a value to a variable and later change the value to another variable with same name, then the previous value of the variable will not be lost and the new value will be assigned to the variable with a new memory location.  \n",
    ">\n",
    "> In the above example, when the first statement `price = 15` is executed, the value 15 is stored at memory location 121, and the price variable points to this memory location.\n",
    "When the second statement `price = 10` is executed, the new value 10 is stored at a new memory location 141, and the price variable is updated to point to this new memory location. The original value 15 is still present in memory."
   ]
  },
  {
   "cell_type": "markdown",
   "metadata": {},
   "source": [
    "#### Python Interning\n",
    "Interning is a memory optimization technique used by Python to store only one copy of certain immutable objects, such as strings or integers, in memory. If two variables have the same value, then they should point to the same memory location (reference) rather than having multiple copies of the same data in memory.\n",
    "\n",
    "**String Interning**: Python automatically interns some strings, particularly short strings. This means that if you create two strings with the same value, they may point to the same memory location.\n",
    "\n",
    "> `Note:`\n",
    "> - Not all strings are interned, strings with spaces or special characters are not interned by default.\n",
    "> - String formed with any other way other then direct assignment like concatenation or formatting will not be interned.\n",
    "> - You can explicitly intern strings using the `sys.intern()` function from the `sys` module.\n",
    "\n",
    "**Integer Interning**: Python also interns small integers (typically from -5 to 256). This means that if you create two variables with the same small integer value, they will point to the same memory location.\n",
    "\n",
    "Example:"
   ]
  },
  {
   "cell_type": "code",
   "execution_count": 4,
   "metadata": {},
   "outputs": [
    {
     "name": "stdout",
     "output_type": "stream",
     "text": [
      "True\n",
      "Memory location of variable a: 4584075888\n",
      "Memory location of variable b: 4584075888\n",
      "\n",
      "False\n",
      "Memory location of variable c: 4583055792\n",
      "Memory location of variable d: 4583055920\n",
      "\n",
      "True\n",
      "Memory location of variable e: 4585418672\n",
      "Memory location of variable f: 4585418672\n",
      "\n",
      "False\n",
      "Memory location of variable a: 4590177584\n",
      "Memory location of variable b: 4590177168\n",
      "\n",
      "True\n",
      "Memory location of variable c: 4539011648\n",
      "Memory location of variable d: 4539011648\n"
     ]
    }
   ],
   "source": [
    "# String Interning\n",
    "a = \"helloworld\"\n",
    "b = \"helloworld\"\n",
    "print(a is b)  # Output: True (because \"helloworld\" is interned)\n",
    "print(f\"Memory location of variable a: {id(a)}\")\n",
    "print(f\"Memory location of variable b: {id(b)}\\n\")\n",
    "\n",
    "c = \"hello world\"\n",
    "d = \"hello world\"\n",
    "print(c is d)  # Output: False (because \"hello world\" is not automatically interned)\n",
    "print(f\"Memory location of variable c: {id(c)}\")\n",
    "print(f\"Memory location of variable d: {id(d)}\\n\")\n",
    "\n",
    "import sys\n",
    "e = sys.intern(\"hello world\")\n",
    "f = sys.intern(\"hello world\")\n",
    "print(e is f)  # Output: True (because \"hello world\" is explicitly interned)\n",
    "print(f\"Memory location of variable e: {id(e)}\")\n",
    "print(f\"Memory location of variable f: {id(f)}\\n\")\n",
    "\n",
    "# Interger Interning\n",
    "a = 1000\n",
    "b = 1000\n",
    "print(a is b)  # Output: False (because integers > 256 are not interned)\n",
    "print(f\"Memory location of variable a: {id(a)}\")\n",
    "print(f\"Memory location of variable b: {id(b)}\\n\")\n",
    "\n",
    "c = 100\n",
    "d = 100\n",
    "print(c is d)  # Output: True (because integers <= 256 are interned)\n",
    "print(f\"Memory location of variable c: {id(c)}\")\n",
    "print(f\"Memory location of variable d: {id(d)}\")"
   ]
  },
  {
   "cell_type": "markdown",
   "metadata": {},
   "source": [
    "> **Dynamic Typing**  \n",
    "> In Dynamic typing you don’t need to explicitly declare the data type of a variable. The type of a variable is determined at runtime, based on the value it holds. You can also change the type of a variable later in your program.\n",
    ">\n",
    "> Languages that support **Dynamic Typing**, like Python, are called **Dynamically Typed Languages**.  \n",
    ">\n",
    "> Example: "
   ]
  },
  {
   "cell_type": "code",
   "execution_count": null,
   "metadata": {},
   "outputs": [
    {
     "name": "stdout",
     "output_type": "stream",
     "text": [
      "<class 'int'>\n",
      "Memory location of variable a: 4539008928\n",
      "\n",
      "<class 'float'>\n",
      "Memory location of variable a: 4582650224\n",
      "\n",
      "<class 'str'>\n",
      "Memory location of variable a: 4583155952\n",
      "\n"
     ]
    }
   ],
   "source": [
    "a = 21\n",
    "print(type(a))  # Output: <class 'int'>\n",
    "print(f\"Memory location of variable a: {id(a)}\\n\")\n",
    "\n",
    "a = a + 10.5\n",
    "print(type(a))  # Output: <class 'float'>\n",
    "print(f\"Memory location of variable a: {id(a)}\\n\")\n",
    "a = \"Hello World\"\n",
    "print(type(a))  # Output: <class 'str'>\n",
    "print(f\"Memory location of variable a: {id(a)}\\n\")\n"
   ]
  },
  {
   "cell_type": "markdown",
   "metadata": {},
   "source": [
    "> ![Dynamic Typing](images/DynamicTypingPython.png)\n",
    ">\n",
    "> If you look at the above image, you can see that the value which variable a is pointing to is changed from 15 (int) to 21.5 (float) to \"Hello World\" (string), and with every assignment, the memory location of the variable is changed.\n",
    ">\n",
    ">This shows that in dynamic typing, you can change the data type of a variable after its first initialization."
   ]
  },
  {
   "cell_type": "markdown",
   "metadata": {},
   "source": [
    "> **Static Typing** \n",
    "> In static typing you have to explicitly declare the data type of a variable when you create it. The type of the variable is bind to a data type during compilation time and cannot be changed later. This ensures type safety and can prevent certain types of errors during development.\n",
    ">\n",
    "> Languages that support **Static Typing**, like C and C++, are called **Statically Typed Languages**.  \n",
    ">\n",
    "> Example:\n",
    "```c++\n",
    "#include <iostream>\n",
    "using namespace std;\n",
    "int main() {\n",
    "\tint a = 15; // a is declared as an integer\n",
    "\tcout << \"a: \" << a << endl;\n",
    "\t#c\n",
    "\n",
    "\tint a = 20; // This is valid, a is still an integer\n",
    "\tcout << \"a: \" << a << endl;\n",
    "\n",
    "\ta = 40.5; // This would cause a compilation error because 21 is an integer, not a float\n",
    "\tcout << \"a: \" << a << endl;\n",
    "\n",
    "\treturn 0;\n",
    "}\n",
    "```"
   ]
  },
  {
   "cell_type": "markdown",
   "metadata": {},
   "source": [
    "> ![Static Typing](images/StaticTypingC++.png)\n",
    ">\n",
    "> If you look at the above image, you can see that the value which variable a is pointing to is changed from 15 (int) to 20 (int), but when we try to assign a float value 40.5 to variable a, it will cause a compilation error because a is declared as an integer and cannot hold a float value. \n",
    "> \n",
    "> This shows that in static typing, you cannot change the data type of a variable after its first initialization."
   ]
  },
  {
   "cell_type": "markdown",
   "metadata": {},
   "source": [
    "#### Playground"
   ]
  },
  {
   "cell_type": "code",
   "execution_count": null,
   "metadata": {},
   "outputs": [],
   "source": [
    "# Playground"
   ]
  }
 ],
 "metadata": {
  "kernelspec": {
   "display_name": ".venv",
   "language": "python",
   "name": "python3"
  },
  "language_info": {
   "codemirror_mode": {
    "name": "ipython",
    "version": 3
   },
   "file_extension": ".py",
   "mimetype": "text/x-python",
   "name": "python",
   "nbconvert_exporter": "python",
   "pygments_lexer": "ipython3",
   "version": "3.13.1"
  }
 },
 "nbformat": 4,
 "nbformat_minor": 2
}
