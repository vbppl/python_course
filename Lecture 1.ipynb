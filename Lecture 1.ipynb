{
 "cells": [
  {
   "cell_type": "markdown",
   "metadata": {},
   "source": [
    "# Programming Languages\n",
    "\n",
    "Programming languages are tools that allow us to communicate with computers. They are a set of instructions that tell the computer what to do.\n",
    "\n",
    "They are like other human languages having their own Syntax and semantics.\n",
    "\n",
    "**Syntax**: The set of rules that defines the structure of statements in a programming language. It dictates how code must be written for the computer to understand it.\n",
    "\n",
    "**Semantics**: The meaning behind the statements in a programming language. While syntax focuses on structure, semantics deals with what the statements actually do when executed.\n",
    "\n",
    "Lets compare Python and other programming languages with other human languages.\n",
    "\n",
    "| **Language** | **Sentence**                  | **Smallest Unit (Lexical Unit)** | **Syntax**        | **Read (or Run) and Write** |\n",
    "|--------------|-------------------------------|----------------------------------|-------------------|-----------------------------|\n",
    "| C            | cout<<\"How are you?\";         | Tokens                           | Instructions      | Left to Right               |\n",
    "| C++          | printf(\"How are you?\");       | Tokens                           | Instructions      | Left to Right               |\n",
    "| Python       | print(\"How are you?\");        | Tokens                           | Instructions      | Left to Right               |\n",
    "| English      | How are you?                  | Alphabet                         | Sentence          | Left to Right               |\n",
    "| Hindi        | आप कैसे हैं?                     | अक्षर                              | वाक्य               | Left to Right               |\n",
    "| Dzongkha     | ཁྱོད་ག་དེ་སྦེ་ཡོད། (Choe Gadhey Bey Yoe)  | གསལ་བྱེད། (Seljey)| རྗོད༌ཚིག༌ (Joe Tshig)   | Left to Right               |\n",
    "| Urdu         | آپ کیسے ہیں |                        حروف تہجی |                    جملہ  | Right to Left               |\n",
    "|French        | Comment ça va?          | Alphabet                         | Phrase       | Left to Right               |\n",
    "  \n",
    "<br>\n",
    "\n",
    ">\n",
    ">Alphabet --> Words --> Senetence --> Paragraph --> Books  **(English)**\n",
    ">\n",
    ">अक्षर --> शब्द --> वाक्य --> खण्ड --> पुस्तक  **(Hindi)**\n",
    ">\n",
    ">Token --> Instruction --> Block --> Programme --> Software  **(Python, C++, C)**\n",
    "\n"
   ]
  },
  {
   "cell_type": "markdown",
   "metadata": {},
   "source": [
    "## Tokens (Lexical Units)\n",
    "\n",
    "Tokens are the smallest units of a program that are meaningful to the language.\n",
    "\n",
    "In Python, tokens include Keywords, Identifiers, Operators, Literals and Punctuators.\n",
    "\n",
    "- **Keywords**: Reserved words in Python that have special meanings and cannot be used as variable names.\n",
    "\n",
    "- **Identifiers**: Names given to variables, functions, classes, etc.\n",
    "\n",
    "- **Operators**: Symbols that perform operations on variables and values.\n",
    "\n",
    "- **Literals**: Constants that represent fixed values in the program.\n",
    "\n",
    "- **Punctuators**: Punctuation marks that separate tokens.\n"
   ]
  }
 ],
 "metadata": {
  "kernelspec": {
   "display_name": "Python 3",
   "language": "python",
   "name": "python3"
  },
  "language_info": {
   "codemirror_mode": {
    "name": "ipython",
    "version": 3
   },
   "file_extension": ".py",
   "mimetype": "text/x-python",
   "name": "python",
   "nbconvert_exporter": "python",
   "pygments_lexer": "ipython3",
   "version": "3.9.6"
  }
 },
 "nbformat": 4,
 "nbformat_minor": 2
}
