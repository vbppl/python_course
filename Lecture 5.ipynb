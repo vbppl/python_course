{
 "cells": [
  {
   "cell_type": "markdown",
   "metadata": {},
   "source": [
    "\n",
    "# **Memory Management**\n",
    "\n",
    "#### **Variable**\n",
    "Variable is a container which is a named storage location that stores a value in it.\n",
    "- **Defining Variable**: Variable is created when you assign a value to a variable.  \n",
    "\tFor Example:"
   ]
  },
  {
   "cell_type": "code",
   "execution_count": 16,
   "metadata": {},
   "outputs": [
    {
     "ename": "NameError",
     "evalue": "name 'x' is not defined",
     "output_type": "error",
     "traceback": [
      "\u001b[0;31m---------------------------------------------------------------------------\u001b[0m",
      "\u001b[0;31mNameError\u001b[0m                                 Traceback (most recent call last)",
      "Cell \u001b[0;32mIn[16], line 1\u001b[0m\n\u001b[0;32m----> 1\u001b[0m \u001b[38;5;28mprint\u001b[39m(\u001b[43mx\u001b[49m)\n\u001b[1;32m      2\u001b[0m x \u001b[38;5;241m=\u001b[39m \u001b[38;5;241m10\u001b[39m\n\u001b[1;32m      3\u001b[0m \u001b[38;5;28mprint\u001b[39m(x)\n",
      "\u001b[0;31mNameError\u001b[0m: name 'x' is not defined"
     ]
    }
   ],
   "source": [
    "print(x)\n",
    "x = 10\n",
    "print(x)"
   ]
  },
  {
   "cell_type": "markdown",
   "metadata": {},
   "source": [
    "> Above example show that varibale is not created until the value is assigned to it.\n",
    "\n",
    "- **Multiple Assignments**\n",
    "\t- Assigning the same value to multiple variables<br>\n",
    "\t\tFor Example:\n",
    "\t\t```python\n",
    "\t\ta = b = c = 20\n",
    "\t\tprint(\"a:\", a, \"b:\", b, \"c:\", c)\n",
    "\n",
    "\t\tx = y = z = \"Hi\"\n",
    "\t\tprint(\"x:\", x, \"y:\", y, \"z:\", z)\n",
    "\t\t```\n",
    "\t\tAbove example will assign 10 to all variables a, b, c and \"Hi\" to all variables x, y, z.\n",
    "\n",
    "\t\tOutput:\n",
    "\t\t```python\n",
    "\t\ta: 20 b: 20 c: 20\n",
    "\t\tx: Hi y: Hi z: Hi\n",
    "\t\t```\n",
    "\n",
    "\t- Assigning different values to multiple variables <br>\n",
    "\t\tFor Example:\n",
    "\t\t```python\n",
    "\t\ta, b, c = 10, 20.5, \"Hi\"\n",
    "\t\tprint(a, b, c)\n",
    "\t\t```\n",
    "\t\tAbove example will assign 10 to variable a, 20.5 to variable b and \"Hi\" to variable c.\n",
    "\n",
    "\t\t```python\n",
    "\t\ta, b, c = 10, 4, 6\n",
    "\t\tprint(\"a:\", a, \"b:\", b, \"c:\", c)\n",
    "\t\tc, b, a = a, b, c\n",
    "\t\tprint(\"a:\", a, \"b:\", b, \"c:\", c)\n",
    "\t\tc, b, a = a - b, b + 5, c * 2\n",
    "\t\tprint(\"a:\", a, \"b:\", b, \"c:\", c)\n",
    "\t\t```\n",
    "\t\tOutput:\n",
    "\t\t```python\n",
    "\t\ta: 10 b: 4 c: 6\n",
    "\t\ta: 6 b: 4 c: 10\n",
    "\t\ta: 20 b: 9 c: 2\n",
    "\t\t```"
   ]
  },
  {
   "cell_type": "markdown",
   "metadata": {},
   "source": [
    "\n",
    "Now lets talk about Memory Management in different programming languages.  \n",
    "\n",
    "> In C & C++:\n",
    "> ![Memmory Management c & c++](images/MemoryManagementc&c++.jpeg)\n",
    ">\n",
    "> In  c and c++ if we assign a value to a variable and later change the value to another variable with same name, then the previous value of the variable will be lost and the new value will be assigned to the variable with the same memory location.\n",
    ">\n",
    ">In the above example (image) if you can see, when the first statement print = 15 executed then 15 is stored in print variable with memory location 100 and when later when we change the value of the variable print, when the statement print = 10 is executed then the previous value of the variable will be lost and the new value will be assigned to the variable print with the same memory location 100."
   ]
  },
  {
   "cell_type": "markdown",
   "metadata": {},
   "source": [
    "> In python:\n",
    "> ![Memmory Management Python](images/MemoryManagementPython.jpeg)\n"
   ]
  },
  {
   "cell_type": "markdown",
   "metadata": {},
   "source": [
    "> **Dynamic Typing**  \n",
    "> If we assign a value to a variable and later change the value to another type with the same name, then the previous value of the variable will be lost.  \n",
    "> Languages that support **Dynamic Typing**, like Python, are called **Dynamically Typed Languages**.  \n",
    ">\n",
    "> For Example:\n",
    "> ```python\n",
    "> a = 15\n",
    "> a = a + 6.5\n",
    "> a = \"Hello World\"\n",
    "> ```\n",
    "> ![Dynamic Typing](images/DynamicTypingPython.jpeg)\n",
    ">\n",
    "> If you look at the above image, you can see that the value of the variable a is changed from int 15 to float 21.5 to string \"Hello World\", and with every assignment, the memory location of the variable is changed.\n",
    ">\n",
    ">This shows that in dynamic typing, you can change the data type of a variable after its first initialization."
   ]
  },
  {
   "cell_type": "markdown",
   "metadata": {},
   "source": [
    "> **Static Typing**  \n",
    "> In static typing, a variable is bind to a data type during compilation time.  \n",
    "> The language which supports **Static Typing** like c and c++ is called **Statically Typed Language**.  \n",
    "> ![Static Typing](images/StaticTypingC++.jpeg)"
   ]
  },
  {
   "cell_type": "markdown",
   "metadata": {},
   "source": [
    "> **Lvalues and Rvalues** <br>\n",
    ">\t**Lvalues** are the objects (variables) to which values and expression are assigned. <br>\n",
    ">\t- Lvalues are come on the left side (LHS) of an assignment operator. <br>\n",
    ">\n",
    ">\t**Rvalues** are the values and expression that are assigned to the Lvalues (variables). <br>\n",
    ">\t- Rvlaues are come on the right side (RHS) of an assignment operator."
   ]
  },
  {
   "cell_type": "markdown",
   "metadata": {},
   "source": [
    "\n",
    "### **Input and Output function:**\n"
   ]
  },
  {
   "cell_type": "markdown",
   "metadata": {},
   "source": [
    "- **input()**: In python function is used to take input from the users. Input function returns a string.\n",
    "\n",
    "```python\n",
    "syntax: variable  = input(\"Prompt to user\")\n",
    "# Example\n",
    "a = int(input(\"Enter a number\"))\n",
    "print(a)\n",
    "```\n",
    "\n",
    "> As input function always return string type, so when we want a integer or a float value from the user then we have to convert it to the required type. This is known as `type conversion` or `typecasting`.  \n",
    "> Type conversion is of 2 types.\n",
    "> `Implicit Conversion` - Python sometimes automatically change the data type of the varibale.\n",
    "> ```python\n",
    "> a = 1\t# a is declared integer\n",
    "> print(a)\n",
    "> print(type(a))\n",
    "> a = 2 / 2\t\t# a is implicitly converted to float\n",
    "> print(a)\n",
    "> print(type(a))\n",
    "> ```\n",
    ">\n",
    "> `Explicit Conversion` - In this you have to use int(), float() or str() function to manually do type conversion\n",
    "> ```python\n",
    "> a = 1\t\t# a is declared integer\n",
    "> print(a)\n",
    "> print(type(a))\n",
    "> a = float(a)\t\t# a is explicitly converted to float\n",
    "> print(a)\n",
    "> print(type(a))\n",
    "> a = str(a)\t\t# a is explicitly converted to string\n",
    "> print(a)\n",
    "> print(type(a))\n",
    "> ```"
   ]
  },
  {
   "cell_type": "code",
   "execution_count": null,
   "metadata": {},
   "outputs": [
    {
     "name": "stdout",
     "output_type": "stream",
     "text": [
      "1\n",
      "<class 'int'>\n",
      "1.0\n",
      "<class 'float'>\n",
      "1\n",
      "<class 'int'>\n",
      "1.0\n",
      "<class 'float'>\n",
      "1.0\n",
      "<class 'str'>\n"
     ]
    }
   ],
   "source": [
    "a = 1\t# a is declared integer\n",
    "print(a)\n",
    "print(type(a))\n",
    "a = 2 / 2\t\t# a is implicitly converted to float\n",
    "print(a)\n",
    "print(type(a))\n",
    "\n",
    "\n",
    "\n",
    "a = 1\t\t# a is declared integer\n",
    "print(a)\n",
    "print(type(a))\n",
    "a = float(a)\t\t# a is explicitly converted to float\n",
    "print(a)\n",
    "print(type(a))\n",
    "a = str(a)\t\t# a is explicitly converted to string\n",
    "print(a)\n",
    "print(type(a))"
   ]
  },
  {
   "cell_type": "markdown",
   "metadata": {},
   "source": [
    "### print() function\n",
    "\n",
    "print() function is used to print the output to standard output device usually a screen.\n",
    "\n",
    "```python\n",
    "syntax: print(value, sep, end)\n",
    "```"
   ]
  },
  {
   "cell_type": "code",
   "execution_count": null,
   "metadata": {},
   "outputs": [
    {
     "name": "stdout",
     "output_type": "stream",
     "text": [
      "Hello World\n",
      "2\n",
      "5\n",
      "Sum of 2 no's a: 2 and b: 5 is 7\n"
     ]
    }
   ],
   "source": [
    "# Example\n",
    "print(\"Hello World\")\n",
    "\n",
    "a = 2\n",
    "print(a)\n",
    "b = 5\n",
    "print(b)\n",
    "print(\"Sum of 2 no's a:\", a, \"and b:\", b, \"is\", a + b)\n",
    "\n"
   ]
  },
  {
   "cell_type": "markdown",
   "metadata": {},
   "source": [
    "- print() fucntion automatically converts the value to string. If you are printing a integer or a float type value then print() function will automatically convert it to string before printing, and for numerical expression it will first evaluate the expression and then convert the result to string before print it.\n",
    "\n",
    "- print() function automatically add the space between every objects printed in a line. In python print function take sep (separator) argumet and the default value of sep is \" \" (one space).\n",
    "```python\n",
    "print(\"Hello\", \"World\", sep = \" \")\n",
    "\n",
    "# above print statement can also written as\n",
    "print(\"Hello\", \"World\")\t\t# we can remove sep argument, as default value of sep is \" \"\n",
    "```\n",
    "\n",
    "- print() function automatically adds a new line at the end of the output. In python print function take end (end character) argument and the default value of end is \"\\n\" (new line).\n",
    "```python\n",
    "print(\"Hi\", end = \"\\n\")\n",
    "print(\"Hello World\", end = \"\\n\")\n",
    "\n",
    "# above print statements result can also be replicated by \n",
    "print(\"Hi\") \t# we can remove end argument, as default value of end is \"\\n\"\n",
    "print(\"Hello World\")\n",
    "```\n"
   ]
  },
  {
   "cell_type": "code",
   "execution_count": null,
   "metadata": {},
   "outputs": [
    {
     "name": "stdout",
     "output_type": "stream",
     "text": [
      "Hello World\n",
      "Hello World\n",
      "Hi\n",
      "Hello World\n",
      "Hi\n",
      "Hello World\n"
     ]
    }
   ],
   "source": [
    "print(\"Hello\", \"World\", sep = \" \")\n",
    "print(\"Hello\", \"World\")\t\t# we can remove sep argument, as default value of sep is \" \"\n",
    "\n",
    "print(\"Hi\", end = \"\\n\")\n",
    "print(\"Hello World\", end = \"\\n\")\n",
    "print(\"Hi\") \t# we can remove end argument, as default value of end is \"\\n\"\n",
    "print(\"Hello World\")"
   ]
  },
  {
   "cell_type": "markdown",
   "metadata": {},
   "source": [
    "### sep & end arguments\n",
    "\n",
    "- sep argument is used to add a sepcified separator between every object printed in a line.\n",
    "\n",
    "- end argument is used to add a specified end character at the end of the print statement."
   ]
  },
  {
   "cell_type": "code",
   "execution_count": null,
   "metadata": {},
   "outputs": [
    {
     "name": "stdout",
     "output_type": "stream",
     "text": [
      "Hello World\n",
      "Hello----World\n",
      "Hello\n",
      "World\n",
      "Hello\n",
      "World\n",
      "Hello World\n",
      "Hello@World@"
     ]
    }
   ],
   "source": [
    "print(\"Hello\", \"World\", sep = \" \")\n",
    "\n",
    "print(\"Hello\", \"World\", sep = \"----\")\n",
    "\n",
    "print(\"Hello\", \"World\", sep = \"\\n\")\n",
    "\n",
    "print(\"Hello\", end = \"\\n\")\n",
    "print(\"World\", end = \"\\n\")\n",
    "\n",
    "print(\"Hello\", end = \" \")\n",
    "print(\"World\", end = \"\\n\")\n",
    "\n",
    "print(\"Hello\", end = \"@\")\n",
    "print(\"World\", end = \"@\")"
   ]
  },
  {
   "cell_type": "markdown",
   "metadata": {},
   "source": [
    "### Playground"
   ]
  },
  {
   "cell_type": "code",
   "execution_count": null,
   "metadata": {},
   "outputs": [],
   "source": [
    "# Playground"
   ]
  }
 ],
 "metadata": {
  "kernelspec": {
   "display_name": "Python 3",
   "language": "python",
   "name": "python3"
  },
  "language_info": {
   "codemirror_mode": {
    "name": "ipython",
    "version": 3
   },
   "file_extension": ".py",
   "mimetype": "text/x-python",
   "name": "python",
   "nbconvert_exporter": "python",
   "pygments_lexer": "ipython3",
   "version": "3.8.9"
  }
 },
 "nbformat": 4,
 "nbformat_minor": 2
}
