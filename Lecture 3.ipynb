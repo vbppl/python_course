{
 "cells": [
  {
   "cell_type": "markdown",
   "metadata": {},
   "source": [
    "\n",
    "# Python Fundamentals\n"
   ]
  },
  {
   "cell_type": "markdown",
   "metadata": {},
   "source": [
    "\n",
    "## Tokens (Lexical Units)\n",
    "\n",
    "Tokens are the smallest units of a program that are meaningful to the language.  \n",
    "In Python, tokens include [Keywords](#keywords), [Identifiers](#identifiers), [Literals](#literals), [Operators](#operators) and [Punctuators](#punctuators)."
   ]
  },
  {
   "cell_type": "markdown",
   "metadata": {},
   "source": [
    "\n",
    "### Keywords\n",
    "\n",
    "Reserved words in Python that have special meanings and cannot be used as variable names.  \n",
    "\n",
    "For Example:\n"
   ]
  },
  {
   "cell_type": "code",
   "execution_count": 93,
   "metadata": {},
   "outputs": [
    {
     "name": "stdout",
     "output_type": "stream",
     "text": [
      "Hello, World!\n"
     ]
    }
   ],
   "source": [
    "print(\"Hello, World!\")"
   ]
  },
  {
   "cell_type": "markdown",
   "metadata": {},
   "source": [
    "In the above example, `print` is a keyword, used to print the string \"Hello, World!\" to the console.\n",
    "Examples: `if`, `print`, `else`, `elseif`, `import`, `while`, `def`, `return`, `for`, `in`, `is`, `and`, `or`, `not` etc.\n",
    "\n",
    "> In python, keywords are case-sensitive.\n",
    ">\n",
    "> For example: `if` and `If` are different.\n",
    ">\n",
    "> `if` is a keyword,\n",
    ">\n",
    "> but `If` is not.\n"
   ]
  },
  {
   "cell_type": "markdown",
   "metadata": {},
   "source": [
    "\n",
    "### Identifiers\n",
    "\n",
    "Names given to variables, functions, classes, etc.  \n",
    "\n",
    "For example:\n",
    "```python\n",
    "my_integer = 10\n",
    "my_string = \"Hello, World!\"\n",
    "my_float = 10.5\n",
    "my_boolean = True\n",
    "my_complex = 10 + 5j\n",
    "my_list = [1, 2, 3, 4, 5]\n",
    "my_tuple = (1, 2, 3, 4, 5)\n",
    "my_set = {1, 2, 3, 4, 5}\n",
    "my_dictionary = {\"name\": \"Jamyang\", \"age\": 20}\n",
    "```\n",
    "\n",
    "> In python, to name an identifier, we need to follow some rules:\n",
    "> - An identifier maximum length is 79 characters.\n",
    "> - An identifier must start with a letter (`a` - `z`, `A` - `Z`) or underscore (`_`).\n",
    "> - An identifier can contain letters, digits (`0` - `9`) and underscores.\n",
    "> - An identifier cannot contain special characters like `@`, `$`, `%`, `-`, `+`, `=`, `&`, `|`, `~`, `!`, `#`, `%`, `^`, `&`, `*` etc.\n",
    "> - An identifier cannot be a reserved word.\n",
    "> - In python, identifiers are case-sensitive. i.e `my_integer` and `MyInteger` are different identifiers.\n",
    "> - **Note**: It's a good practice to use lowercase letters for identifiers.\n",
    ">\n",
    ">> Valid Identifiers: `my_integer`, `_name`, `name1`, `name_1`, `name_1_2`, `name_1_2_3`, etc.\n",
    ">>\n",
    ">> Non Valid Identifiers: `1my_integer`, `my-string`, `my float`, etc.\n",
    "\n",
    "Python, supports certain nongraphical characters in identifiers. These nongraphic characters are represented by escape sequences.\n",
    "| **Escape Sequence**  | **Nongraphical Character**                 |\n",
    "|----------------------|--------------------------------------------|\n",
    "| `\\\\`                 | backslash (`\\`)                            |\n",
    "| `\\'`                 | single quote (`'`)                         |\n",
    "| `\\\"`                 | double quote (`\"`)                         |\n",
    "| `\\n`                 | newline                                    |\n",
    "| `\\t`                 | tab (horizontal tab)                       |\n",
    "| `\\r`                 | carriage return                            |\n",
    "| `\\b`                 | backspace                                  |\n",
    "| `\\f`                 | form feed                                  |\n",
    "| `\\v`                 | vertical tab                               |\n",
    "| `\\a`                 | bell                                       |\n",
    "| `\\e`                 | escape                                     |\n",
    "| `\\000`               | null character                             |\n",
    "| `\\xhh`               | hexadecimal character                      |\n",
    "| `\\ooo`               | octal character                            |\n",
    "| `\\Uxxxxxxxx`         | 128-bit Unicode character                  |\n",
    "| `\\uhhhh`             | 16-bit Unicode character                   |\n",
    "| `\\xhh`               | 1-byte character                           |\n",
    "| `\\ooo`               | 1-byte character                           |\n",
    "| `\\0`                 | null character                             |\n",
    "| `\\N{Name}`           | Unicode character Database named lookup    |\n",
    "| `\\uxxxxxxxx`         | Unicode character with a 16-bit hex value  |\n",
    "| `\\Uxxxxxxxx`         | Unicode character with a 32-bit hex value  |\n",
    "| `\\000`               | Character with octal value `ooo`           |\n",
    "| `\\xhh`               | Character with hex value `hh`              |\n"
   ]
  },
  {
   "cell_type": "markdown",
   "metadata": {},
   "source": [
    "\n",
    "### Literals\n",
    "\n",
    "Constants that represent fixed values in the program.  \n",
    "\n",
    "For example:\n",
    "```python\n",
    "my_integer = 10\n",
    "my_string = \"Hello, World!\"\n",
    "my_float = 10.5\n",
    "my_boolean = True\n",
    "my_complex = 10 + 5j\n",
    "my_list = [1, 2, 3, 4, 5]\n",
    "my_tuple = (1, 2, 3, 4, 5)\n",
    "my_set = {1, 2, 3, 4, 5}\n",
    "my_dictionary = {\"name\": \"Jamyang\", \"age\": 20}\n",
    "```\n",
    "\n",
    "Literals are of different types: [`String Literals`](#string-literals), [`Integer Literals`](#integer-literals), [`Float Literals`](#float-literals), [`Complex Literals`](#complex-literals), [`Boolean Literals`](#boolean-literals), [`None Literals`](#none-literals), [`List Literals`](#list-literals), [`Tuple Literals`](#tuple-literals), [`Set Literals`](#set-literals), [`Dictionary Literals`](#dictionary-literals)."
   ]
  },
  {
   "cell_type": "markdown",
   "metadata": {},
   "source": [
    "\n",
    "#### String Literals\t\n",
    "\n",
    "Strings are sequences of characters enclosed in quotes (Single `'`, Double `\"` and triple `'''` or `\"\"\"`).  \n",
    "\n",
    "For example:\n",
    "```python\n",
    "my_string = \"Hello, World!\"\n",
    "my_string = 'Hello, World!'\n",
    "my_string = \"\"\"Hello, World!\"\"\"\n",
    "my_string = '''Hello, World!'''\n",
    "```\n",
    "\n",
    "> Triple quotes are used to represent multi-line strings.  \n",
    "> For example:"
   ]
  },
  {
   "cell_type": "code",
   "execution_count": 94,
   "metadata": {},
   "outputs": [
    {
     "name": "stdout",
     "output_type": "stream",
     "text": [
      "This is a multi-line string.\n",
      "It can span multiple lines.\n",
      "We can use triple double quotes to represent it.\n",
      "\n"
     ]
    }
   ],
   "source": [
    "my_string = \"\"\"This is a multi-line string.\n",
    "It can span multiple lines.\n",
    "We can use triple double quotes to represent it.\n",
    "\"\"\"\n",
    "print(my_string)"
   ]
  },
  {
   "cell_type": "code",
   "execution_count": 95,
   "metadata": {},
   "outputs": [
    {
     "name": "stdout",
     "output_type": "stream",
     "text": [
      "This is a multi-line string.\n",
      "It can span multiple lines.\n",
      "We can use triple single quotes to represent it.\n",
      "\n"
     ]
    }
   ],
   "source": [
    "my_string = '''This is a multi-line string.\n",
    "It can span multiple lines.\n",
    "We can use triple single quotes to represent it.\n",
    "'''\n",
    "print(my_string)"
   ]
  },
  {
   "cell_type": "markdown",
   "metadata": {},
   "source": [
    "> In Python, we can use single quotes inside double quotes and double quotes inside single quotes. \n",
    "> For example: \n",
    "> ```python\n",
    "> my_string = \"It's a beautiful day!\"  # Single quote inside double quotes\n",
    "> my_string = 'He said, \"Hello!\"'      # Double quote inside single quotes\n",
    "> ```\n",
    ">\n",
    "> If we want to use triple quotes, we need to use double quotes inside single quotes and single quotes inside double quotes. \n",
    "> For example:\n",
    "> ```python\n",
    "> my_string = '''He said, \"It's a beautiful day!\"'''  # Double quotes inside single quotes\n",
    "> my_string = \"\"\"She replied, 'Yes, it is!'\"\"\"        # Single quotes inside double quotes\n",
    "> ```"
   ]
  },
  {
   "cell_type": "markdown",
   "metadata": {},
   "source": [
    "\n",
    "#### Integer Literals\n",
    "\n",
    "Integers are whole numbers, with or without a positive or negative sign, without any decimal point. The number with no sign is considered as a positive integer.  \n",
    "\n",
    "For example:\n",
    "```python\n",
    "my_integer = 10\n",
    "```\n",
    "Integer literals can be of different types: `Decimal` , `Octal`, `Hexadecimal`."
   ]
  },
  {
   "cell_type": "markdown",
   "metadata": {},
   "source": [
    "- **Decimal**: Decimal integers are written in base 10.  \n",
    "\t\n",
    "\tFor example:"
   ]
  },
  {
   "cell_type": "code",
   "execution_count": 96,
   "metadata": {},
   "outputs": [
    {
     "name": "stdout",
     "output_type": "stream",
     "text": [
      "10\n"
     ]
    }
   ],
   "source": [
    "my_integer = 10\n",
    "print(my_integer)"
   ]
  },
  {
   "cell_type": "markdown",
   "metadata": {},
   "source": [
    "- **Octal**: Octal integers are written in base 8.  \n",
    "\tIn Python, to represent an octal integer, we need to prefix the integer with `0o`.  \n",
    "\t\n",
    "\tFor example:"
   ]
  },
  {
   "cell_type": "code",
   "execution_count": 97,
   "metadata": {},
   "outputs": [
    {
     "name": "stdout",
     "output_type": "stream",
     "text": [
      "10\n"
     ]
    }
   ],
   "source": [
    "my_integer = 0o12\n",
    "print(my_integer)"
   ]
  },
  {
   "cell_type": "markdown",
   "metadata": {},
   "source": [
    "- **Hexadecimal**: Hexadecimal integers are written in base 16.  \n",
    "\tIn Python, to represent a hexadecimal integer, we need to prefix the integer with `0x`.  \n",
    "\t\n",
    "\tFor example:"
   ]
  },
  {
   "cell_type": "code",
   "execution_count": 98,
   "metadata": {},
   "outputs": [
    {
     "name": "stdout",
     "output_type": "stream",
     "text": [
      "10\n"
     ]
    }
   ],
   "source": [
    "my_integer = 0xA\n",
    "print(my_integer)"
   ]
  },
  {
   "cell_type": "markdown",
   "metadata": {},
   "source": [
    "\n",
    "#### Float Literals\n",
    "\n",
    "Floating-point numbers are numbers with a decimal point. The number with no sign is considered as a positive floating-point number.  \n",
    "\n",
    "For example:\n",
    "```python\n",
    "my_float = 10.5\n",
    "```\n",
    "> Floating-point number can be written in **Fractional form** or **Exponential form**.\n",
    "> For example:\n",
    "> ```python\n",
    "> my_float = 10.5  # Fractional form\n",
    "> my_float = 1.05e1  # Exponential form\n",
    "> ```\n",
    "\n",
    "- **Fractional form**: The fractional form of a floating-point number is written as a decimal number with a decimal point.  \n",
    "\t\n",
    "\tFor example:\n",
    "    ```python\n",
    "    my_float = 10.5  # Fractional form\n",
    "    ```\n",
    "\n",
    "- **Exponential form**: The exponential form of a floating-point number is written as a decimal number (Mantissa) with a decimal point and an exponent.  \n",
    "\t\n",
    "\tFor example:"
   ]
  },
  {
   "cell_type": "code",
   "execution_count": 99,
   "metadata": {},
   "outputs": [
    {
     "name": "stdout",
     "output_type": "stream",
     "text": [
      "10.5\n"
     ]
    }
   ],
   "source": [
    "my_float = 1.05e1  # Exponential form\n",
    "# here 1.05 is the mantissa and 1 is the exponent.\n",
    "print(my_float)"
   ]
  },
  {
   "cell_type": "markdown",
   "metadata": {},
   "source": [
    "\n",
    "#### Complex Literals\n",
    "\n",
    "Complex numbers are written in the form `a + bj`, where `a` is the real part and `b` is the imaginary part.  \n",
    "\n",
    "For example:\n",
    "```python\n",
    "my_complex = 10 + 5j\n",
    "```\n",
    "This is a complex number with real part 10 and imaginary part 5."
   ]
  },
  {
   "cell_type": "markdown",
   "metadata": {},
   "source": [
    "\n",
    "#### Boolean Literals\n",
    "\n",
    "Boolean literals are `True` and `False`.  \n",
    "\n",
    "For example:\n",
    "```python\n",
    "my_boolean = True\n",
    "my_boolean = False\n",
    "```\n",
    "The Boolean literals are used to represent the truth values `True` and `False`."
   ]
  },
  {
   "cell_type": "markdown",
   "metadata": {},
   "source": [
    "\n",
    "#### None Literal\n",
    "\n",
    "None literals is `None`.  \n",
    "\n",
    "For example:\n",
    "```python\n",
    "my_none = None\n",
    "```\n",
    "The `None` literal is used to represent the absence of a value.\n"
   ]
  },
  {
   "cell_type": "markdown",
   "metadata": {},
   "source": [
    "### Operators\n",
    "Symbols that perform operations on variables and values. Operators are used to perform operations on variables and values. The variables and values are called operands.\n",
    "\n",
    "For example:\n",
    "```python\n",
    "my_integer = 10\n",
    "my_integer = my_integer + 10    # Here + is the operator and my_integer and 10 are the operands.\n",
    "print(my_integer)\n",
    "```\n",
    "The above example will print `20`.\n",
    "\n",
    "Operators are of different types: [`Unary Operators`](#unary-operators), [`Binary Operators`](#binary-operators), [`Ternary Operators`](#ternary-operators)."
   ]
  },
  {
   "cell_type": "markdown",
   "metadata": {},
   "source": [
    "#### Unary Operators\n",
    "Operators that operate on a single operand.  \n",
    "\n",
    "For example:\n",
    "```python\n",
    "my_integer = 10\n",
    "my_integer = - my_integer    # Here - is the operator and my_integer is the operand.\n",
    "print(my_integer)\n",
    "```\n",
    "The above example will print `-10`.\n",
    "Some examples of Unary Operators:\n",
    "\n",
    "- `+` Unary Plus  \n",
    "For example:"
   ]
  },
  {
   "cell_type": "code",
   "execution_count": 100,
   "metadata": {},
   "outputs": [
    {
     "name": "stdout",
     "output_type": "stream",
     "text": [
      "10\n",
      "10\n"
     ]
    }
   ],
   "source": [
    "my_integer = 10\n",
    "my_cal = + my_integer    # Here + is the operator and my_integer is the operand.\n",
    "print(my_integer)\n",
    "print(my_cal)"
   ]
  },
  {
   "cell_type": "markdown",
   "metadata": {},
   "source": [
    "- `-` Unary Minus  \n",
    "For example:"
   ]
  },
  {
   "cell_type": "code",
   "execution_count": 101,
   "metadata": {},
   "outputs": [
    {
     "name": "stdout",
     "output_type": "stream",
     "text": [
      "10\n",
      "-10\n"
     ]
    }
   ],
   "source": [
    "my_integer = 10\n",
    "my_cal = - my_integer    # Here - is the operator and my_integer is the operand.\n",
    "print(my_integer)\n",
    "print(my_cal)\n"
   ]
  },
  {
   "cell_type": "markdown",
   "metadata": {},
   "source": [
    "- `~` Bitwise Complement  \n",
    "For example:"
   ]
  },
  {
   "cell_type": "code",
   "execution_count": 102,
   "metadata": {},
   "outputs": [
    {
     "name": "stdout",
     "output_type": "stream",
     "text": [
      "10\n",
      "-11\n"
     ]
    }
   ],
   "source": [
    "my_integer = 10\n",
    "my_cal = ~ my_integer    # Here ~ is the operator and my_integer is the operand.\n",
    "print(my_integer)\n",
    "print(my_cal)"
   ]
  },
  {
   "cell_type": "markdown",
   "metadata": {},
   "source": [
    "- `not` Logical NOT  \n",
    "For example:"
   ]
  },
  {
   "cell_type": "code",
   "execution_count": 103,
   "metadata": {},
   "outputs": [
    {
     "name": "stdout",
     "output_type": "stream",
     "text": [
      "True\n",
      "False\n"
     ]
    }
   ],
   "source": [
    "my_boolean = True\n",
    "my_bool = not my_boolean    # Here not is the operator and my_boolean is the operand.\n",
    "print(my_boolean)\n",
    "print(my_bool)"
   ]
  },
  {
   "cell_type": "markdown",
   "metadata": {},
   "source": [
    "#### Binary Operators\n",
    "Operators that operate on two operands.\n",
    "For example:\n",
    "```python\n",
    "my_integer = 10\n",
    "my_integer = my_integer + 10    # Here + is the operator and my_integer and 10 are the operands.\n",
    "print(my_integer)\n",
    "```\n",
    "The above example will print `20`.\n",
    "\n",
    "Binary Operator are of different types: [`Arithmetic Operators`](#arithmetic-operators), [`Assignment Operators`](#assignment-operators), [`Relational Operators`](#relational-operators), [`Logical Operators`](#logical-operators), [`Bitwise Operators`](#bitwise-operators), [`Membership Operators`](#membership-operators), [`Identity Operators`](#identity-operators)."
   ]
  },
  {
   "cell_type": "markdown",
   "metadata": {},
   "source": [
    "- **Arithmetic Operators**: Operators that perform arithmetic operations on variables and values.\n",
    "                \n",
    "    Arithmetic Operators are of different types: `Addition (+)`, `Subtraction(-)`, `Multiplication(*)`, `Division(/)`, `Modulus(%)`, `Exponent(**)`, `Floor Division(//)`."
   ]
  },
  {
   "cell_type": "markdown",
   "metadata": {},
   "source": [
    " - **`+` Addition**: Addition is used to add two operands.  \n",
    "\tFor example:"
   ]
  },
  {
   "cell_type": "code",
   "execution_count": 104,
   "metadata": {},
   "outputs": [
    {
     "name": "stdout",
     "output_type": "stream",
     "text": [
      "15\n"
     ]
    }
   ],
   "source": [
    "a = 10\n",
    "b = 5\n",
    "c = a + b    # Here + is the operator and a and b are the operands.\n",
    "print(c)"
   ]
  },
  {
   "cell_type": "markdown",
   "metadata": {},
   "source": [
    "- **`-` Subtraction**: Subtraction is used to subtract two operands.  \n",
    "\tFor example:\n"
   ]
  },
  {
   "cell_type": "code",
   "execution_count": 105,
   "metadata": {},
   "outputs": [
    {
     "name": "stdout",
     "output_type": "stream",
     "text": [
      "5\n"
     ]
    }
   ],
   "source": [
    "a = 10\n",
    "b = 5\n",
    "c = a - b    # Here - is the operator and a and b are the operands.\n",
    "print(c)"
   ]
  },
  {
   "cell_type": "markdown",
   "metadata": {},
   "source": [
    "- **`*` Multiplication**: Multiplication is used to multiply two operands.  \n",
    "\tFor example:"
   ]
  },
  {
   "cell_type": "code",
   "execution_count": 106,
   "metadata": {},
   "outputs": [
    {
     "name": "stdout",
     "output_type": "stream",
     "text": [
      "50\n"
     ]
    }
   ],
   "source": [
    "a = 10\n",
    "b = 5\n",
    "c = a * b    # Here * is the operator and a and b are the operands.\n",
    "print(c)"
   ]
  },
  {
   "cell_type": "markdown",
   "metadata": {},
   "source": [
    "- **`/` Division**: Division is used to divide two operands.  \n",
    "\tFor example:"
   ]
  },
  {
   "cell_type": "code",
   "execution_count": 107,
   "metadata": {},
   "outputs": [
    {
     "name": "stdout",
     "output_type": "stream",
     "text": [
      "2.0\n"
     ]
    }
   ],
   "source": [
    "a = 10\n",
    "b = 5\n",
    "c = a / b    # Here / is the operator and a and b are the operands.\n",
    "print(c)"
   ]
  },
  {
   "cell_type": "markdown",
   "metadata": {},
   "source": [
    "- **`%` Modulus**: Modulus is used to get the remainder of the division of two operands.  \n",
    "\tFor example:"
   ]
  },
  {
   "cell_type": "code",
   "execution_count": 108,
   "metadata": {},
   "outputs": [
    {
     "name": "stdout",
     "output_type": "stream",
     "text": [
      "1\n"
     ]
    }
   ],
   "source": [
    "a = 10\n",
    "b = 3\n",
    "c = a % b    # Here % is the operator and a and b are the operands.\n",
    "print(c)"
   ]
  },
  {
   "cell_type": "markdown",
   "metadata": {},
   "source": [
    "- **`**` Exponent**: Exponent is used to raise the first operand to the power of the second operand.  \n",
    "For example:"
   ]
  },
  {
   "cell_type": "code",
   "execution_count": 109,
   "metadata": {},
   "outputs": [
    {
     "name": "stdout",
     "output_type": "stream",
     "text": [
      "100\n"
     ]
    }
   ],
   "source": [
    "a = 10\n",
    "b = 2\n",
    "c = a ** b    # Here ** is the operator and a and b are the operands.\n",
    "print(c)"
   ]
  },
  {
   "cell_type": "markdown",
   "metadata": {},
   "source": [
    "- **`//` Floor Division**: Floor Division is used to divide two operands and return the floor of the result (or quotient) rounded down to the nearest whole number.  \n",
    "\tFor example:"
   ]
  },
  {
   "cell_type": "code",
   "execution_count": 110,
   "metadata": {},
   "outputs": [
    {
     "name": "stdout",
     "output_type": "stream",
     "text": [
      "3\n"
     ]
    }
   ],
   "source": [
    "a = 10\n",
    "b = 3\n",
    "c = a // b    # Here // is the operator and a and b are the operands.\n",
    "print(c)"
   ]
  },
  {
   "cell_type": "markdown",
   "metadata": {},
   "source": [
    "- **Assignment Operator**: Assignment operator is used to assign a value to a variable.\n",
    "\n",
    "Assignment Operators are of different types: `Assignment (=)`, `Assign Sum (+=)`, `Assign Difference (-=)`, `Assign Product (*=)`, `Assign Quotient (/=)`, `Assign Remainder (%=)`, `Assign Exponent (**=)`, `Assign Floor Division (//=)`."
   ]
  },
  {
   "cell_type": "markdown",
   "metadata": {},
   "source": [
    "- **`=` Assignment**: Assignment operator is used to assign a value to a variable.  \n",
    "\tFor example:"
   ]
  },
  {
   "cell_type": "code",
   "execution_count": 111,
   "metadata": {},
   "outputs": [
    {
     "name": "stdout",
     "output_type": "stream",
     "text": [
      "10\n"
     ]
    }
   ],
   "source": [
    "a = 10\n",
    "print(a)"
   ]
  },
  {
   "cell_type": "markdown",
   "metadata": {},
   "source": [
    "- **`+=` Assign Sum**: Assign Sum operator is used to add a value to a variable and assign the result to the variable.  \n",
    "\tFor example:"
   ]
  },
  {
   "cell_type": "code",
   "execution_count": 112,
   "metadata": {},
   "outputs": [
    {
     "name": "stdout",
     "output_type": "stream",
     "text": [
      "20\n"
     ]
    }
   ],
   "source": [
    "a = 10\n",
    "# a = a + 10\n",
    "a += 10    # Here += is the operator and a and 10 are the operands.\n",
    "print(a)"
   ]
  },
  {
   "cell_type": "markdown",
   "metadata": {},
   "source": [
    "- **`-=` Assign Difference**: Assign Difference operator is used to subtract a value from a variable and assign the result to the variable.  \n",
    "For example:"
   ]
  },
  {
   "cell_type": "code",
   "execution_count": 113,
   "metadata": {},
   "outputs": [
    {
     "name": "stdout",
     "output_type": "stream",
     "text": [
      "0\n"
     ]
    }
   ],
   "source": [
    "a = 10\n",
    "# a = a - 10\n",
    "a -= 10    # Here -= is the operator and a and 10 are the operands.\n",
    "print(a)"
   ]
  },
  {
   "cell_type": "markdown",
   "metadata": {},
   "source": [
    "- **`*=` Assign Product**: Assign Product operator is used to multiply a value to a variable and assign the result to the variable.  \n",
    "\tFor example:\n"
   ]
  },
  {
   "cell_type": "code",
   "execution_count": 114,
   "metadata": {},
   "outputs": [
    {
     "name": "stdout",
     "output_type": "stream",
     "text": [
      "100\n"
     ]
    }
   ],
   "source": [
    "a = 10\n",
    "# a = a * 10\n",
    "a *= 10    # Here *= is the operator and a and 10 are the operands.\n",
    "print(a)"
   ]
  },
  {
   "cell_type": "markdown",
   "metadata": {},
   "source": [
    "- **`/=` Assign Quotient**: Assign Quotient operator is used to divide a value to a variable and assign the result to the variable.  \n",
    "For example:"
   ]
  },
  {
   "cell_type": "code",
   "execution_count": 115,
   "metadata": {},
   "outputs": [
    {
     "name": "stdout",
     "output_type": "stream",
     "text": [
      "1.0\n"
     ]
    }
   ],
   "source": [
    "a = 10\n",
    "# a = a / 10\n",
    "a /= 10    # Here /= is the operator and a and 10 are the operands.\n",
    "print(a)"
   ]
  },
  {
   "cell_type": "markdown",
   "metadata": {},
   "source": [
    "- **`%=` Assign Remainder**: Assign Remainder operator is used to get the remainder of the division of a value to a variable and assign the result to the variable.  \n",
    "For example:"
   ]
  },
  {
   "cell_type": "code",
   "execution_count": 116,
   "metadata": {},
   "outputs": [
    {
     "name": "stdout",
     "output_type": "stream",
     "text": [
      "0\n"
     ]
    }
   ],
   "source": [
    "a = 10\n",
    "# a = a % 10\n",
    "a %= 10    # Here %= is the operator and a and 10 are the operands.\n",
    "print(a)"
   ]
  },
  {
   "cell_type": "markdown",
   "metadata": {},
   "source": [
    "- **`**=` Assign Exponent**: Assign Exponent operator is used to raise a value to the power of a variable and assign the result to the variable.  \n",
    "For example:"
   ]
  },
  {
   "cell_type": "code",
   "execution_count": 117,
   "metadata": {},
   "outputs": [
    {
     "name": "stdout",
     "output_type": "stream",
     "text": [
      "10000000000\n"
     ]
    }
   ],
   "source": [
    "a = 10\n",
    "# a = a ** 10\n",
    "a **= 10    # Here **= is the operator and a and 10 are the operands.\n",
    "print(a)"
   ]
  },
  {
   "cell_type": "markdown",
   "metadata": {},
   "source": [
    "- **`//=` Assign Floor Division**: Assign Floor Division operator is used to divide a value to a variable and assign the floor of the result (or quotient) rounded down to the nearest whole number to the variable.  \n",
    "For example:"
   ]
  },
  {
   "cell_type": "code",
   "execution_count": 118,
   "metadata": {},
   "outputs": [
    {
     "name": "stdout",
     "output_type": "stream",
     "text": [
      "1\n"
     ]
    }
   ],
   "source": [
    "a = 10\n",
    "# a = a // 10\n",
    "a //= 10    # Here //= is the operator and a and 10 are the operands.\n",
    "print(a)"
   ]
  },
  {
   "cell_type": "markdown",
   "metadata": {},
   "source": [
    "- **Relational Operators**: Operators that compare two operands.\n",
    "\n",
    "Relational Operators are of different types: `Equal to (=)`, `Not Equal to (!=)`, `Greater than (>)`, `Less than (<)`, `Greater than or equal to (>=)`, `Less than or equal to (<=)`.\n"
   ]
  },
  {
   "cell_type": "markdown",
   "metadata": {},
   "source": [
    "- **`==` Equal to**: Equal to operator is used to check if two operands are equal.  \n",
    "For example:"
   ]
  },
  {
   "cell_type": "code",
   "execution_count": 119,
   "metadata": {},
   "outputs": [
    {
     "name": "stdout",
     "output_type": "stream",
     "text": [
      "True\n"
     ]
    }
   ],
   "source": [
    "a = 10\n",
    "b = 10\n",
    "c = a == b    # Here == is the operator and a and b are the operands.\n",
    "print(c)"
   ]
  },
  {
   "cell_type": "markdown",
   "metadata": {},
   "source": [
    "- **`!=` Not Equal to**: Not Equal to operator is used to check if two operands are not equal.  \n",
    "\tFor example:"
   ]
  },
  {
   "cell_type": "code",
   "execution_count": 120,
   "metadata": {},
   "outputs": [
    {
     "name": "stdout",
     "output_type": "stream",
     "text": [
      "True\n"
     ]
    }
   ],
   "source": [
    "a = 10\n",
    "b = 20\n",
    "c = a != b    # Here != is the operator and a and b are the operands.\n",
    "print(c)"
   ]
  },
  {
   "cell_type": "markdown",
   "metadata": {},
   "source": [
    "- **`>` Greater than**: Greater than operator is used to check if the first operand is greater than the second operand.  \n",
    "For example:"
   ]
  },
  {
   "cell_type": "code",
   "execution_count": 121,
   "metadata": {},
   "outputs": [
    {
     "name": "stdout",
     "output_type": "stream",
     "text": [
      "False\n"
     ]
    }
   ],
   "source": [
    "a = 10\n",
    "b = 20\n",
    "c = a > b    # Here > is the operator and a and b are the operands.\n",
    "print(c)"
   ]
  },
  {
   "cell_type": "markdown",
   "metadata": {},
   "source": [
    "- **`<` Less than**: Less than operator is used to check if the first operand is less than the second operand.  \n",
    "For example:"
   ]
  },
  {
   "cell_type": "code",
   "execution_count": 122,
   "metadata": {},
   "outputs": [
    {
     "name": "stdout",
     "output_type": "stream",
     "text": [
      "True\n"
     ]
    }
   ],
   "source": [
    "a = 10\n",
    "b = 20\n",
    "c = a < b    # Here < is the operator and a and b are the operands.\n",
    "print(c)"
   ]
  },
  {
   "cell_type": "markdown",
   "metadata": {},
   "source": [
    "- **`>=` Greater than or equal to**: Greater than or equal to operator is used to check if the first operand is greater than or equal to the second operand.  \n",
    "For example:"
   ]
  },
  {
   "cell_type": "code",
   "execution_count": 123,
   "metadata": {},
   "outputs": [
    {
     "name": "stdout",
     "output_type": "stream",
     "text": [
      "False\n"
     ]
    }
   ],
   "source": [
    "a = 10\n",
    "b = 20\n",
    "c = a >= b    # Here >= is the operator and a and b are the operands.\n",
    "print(c)"
   ]
  },
  {
   "cell_type": "markdown",
   "metadata": {},
   "source": [
    "- **`<=` Less than or equal to**: Less than or equal to operator is used to check if the first operand is less than or equal to the second operand.  \n",
    "For example:"
   ]
  },
  {
   "cell_type": "code",
   "execution_count": 124,
   "metadata": {},
   "outputs": [
    {
     "name": "stdout",
     "output_type": "stream",
     "text": [
      "True\n"
     ]
    }
   ],
   "source": [
    "a = 10\n",
    "b = 20\n",
    "c = a <= b    # Here <= is the operator and a and b are the operands.\n",
    "print(c)"
   ]
  },
  {
   "cell_type": "markdown",
   "metadata": {},
   "source": [
    "- **Logical Operators**: Operators that perform logical operations on variables and values.\n",
    "Logical Operators are of different types: `Logical AND (and)`, `Logical OR (or)`, `Logical NOT (not)`."
   ]
  },
  {
   "cell_type": "markdown",
   "metadata": {},
   "source": [
    "- **`and` Logical AND**: Logical AND operator is used to check if both operands are true.  \n",
    "For example:"
   ]
  },
  {
   "cell_type": "code",
   "execution_count": 125,
   "metadata": {},
   "outputs": [
    {
     "name": "stdout",
     "output_type": "stream",
     "text": [
      "False\n"
     ]
    }
   ],
   "source": [
    "a = 10\n",
    "b = 20\n",
    "c = a < b and b < a    # Here and is the operator and a and b are the operands.\n",
    "print(c)"
   ]
  },
  {
   "cell_type": "markdown",
   "metadata": {},
   "source": [
    "- **`or` Logical OR**: Logical OR operator is used to check if at least one of the operands is true.  \n",
    "For example:"
   ]
  },
  {
   "cell_type": "code",
   "execution_count": 126,
   "metadata": {},
   "outputs": [
    {
     "name": "stdout",
     "output_type": "stream",
     "text": [
      "True\n"
     ]
    }
   ],
   "source": [
    "a = 10\n",
    "b = 20\n",
    "c = a < b or b < a    # Here or is the operator and a and b are the operands.\n",
    "print(c)"
   ]
  },
  {
   "cell_type": "markdown",
   "metadata": {},
   "source": [
    "- **`not` Logical NOT**: Logical NOT operator is used to check if the operand is not true.  \n",
    "For example:"
   ]
  },
  {
   "cell_type": "code",
   "execution_count": 127,
   "metadata": {},
   "outputs": [
    {
     "name": "stdout",
     "output_type": "stream",
     "text": [
      "False\n"
     ]
    }
   ],
   "source": [
    "a = 10\n",
    "b = 20\n",
    "c = not a < b    # Here not is the operator and a and b are the operands.\n",
    "print(c)"
   ]
  },
  {
   "cell_type": "markdown",
   "metadata": {},
   "source": [
    "- **Bitwise Operators**: Operators that perform bitwise operations on variables and values.\n",
    "Bitwise Operators are of different types: `Bitwise AND (&)`, `Bitwise OR (|)`, `Bitwise XOR (^)`."
   ]
  },
  {
   "cell_type": "markdown",
   "metadata": {},
   "source": [
    "- **`&` Bitwise AND**: Bitwise AND operator is used to perform bitwise AND operation on two operands.  \n",
    "For example:"
   ]
  },
  {
   "cell_type": "code",
   "execution_count": 128,
   "metadata": {},
   "outputs": [
    {
     "name": "stdout",
     "output_type": "stream",
     "text": [
      "0\n"
     ]
    }
   ],
   "source": [
    "a = 10    # 10 = 1010 in binary\n",
    "b = 20    # 20 = 10100 in binary\n",
    "c = a & b    # Here & is the operator and a and b are the operands.\n",
    "print(c)"
   ]
  },
  {
   "cell_type": "markdown",
   "metadata": {},
   "source": [
    "- **`|` Bitwise OR**: Bitwise OR operator is used to perform bitwise OR operation on two operands.  \n",
    "For example:"
   ]
  },
  {
   "cell_type": "code",
   "execution_count": 129,
   "metadata": {},
   "outputs": [
    {
     "name": "stdout",
     "output_type": "stream",
     "text": [
      "30\n"
     ]
    }
   ],
   "source": [
    "a = 10    # 10 = 1010 in binary\n",
    "b = 20    # 20 = 10100 in binary\n",
    "c = a | b    # Here | is the operator and a and b are the operands.\n",
    "print(c)"
   ]
  },
  {
   "cell_type": "markdown",
   "metadata": {},
   "source": [
    "- **`^` Bitwise XOR**: Bitwise XOR operator is used to perform bitwise XOR operation on two operands.  \n",
    "For example:"
   ]
  },
  {
   "cell_type": "code",
   "execution_count": 130,
   "metadata": {},
   "outputs": [
    {
     "name": "stdout",
     "output_type": "stream",
     "text": [
      "30\n"
     ]
    }
   ],
   "source": [
    "a = 10    # 10 = 1010 in binary\n",
    "b = 20    # 20 = 10100 in binary\n",
    "c = a ^ b    # Here ^ is the operator and a and b are the operands.\n",
    "print(c)"
   ]
  },
  {
   "cell_type": "markdown",
   "metadata": {},
   "source": [
    "- **Membership Operators**: Operators that check if a value is present in a sequence.  \n",
    "Membership Operators are of different types: `in` and `not in`."
   ]
  },
  {
   "cell_type": "markdown",
   "metadata": {},
   "source": [
    "- **`in`**: in operator is used to check if a value is present in a sequence.  \n",
    "For example:"
   ]
  },
  {
   "cell_type": "code",
   "execution_count": 131,
   "metadata": {},
   "outputs": [
    {
     "name": "stdout",
     "output_type": "stream",
     "text": [
      "True\n"
     ]
    }
   ],
   "source": [
    "a = 10\n",
    "b = [10, 20, 30, 40, 50]\n",
    "c = a in b    # Here in is the operator and a and b are the operands.\n",
    "print(c)"
   ]
  },
  {
   "cell_type": "markdown",
   "metadata": {},
   "source": [
    "- **`not in`**: not in operator is used to check if a value is not present in a sequence.  \n",
    "For example:"
   ]
  },
  {
   "cell_type": "code",
   "execution_count": 132,
   "metadata": {},
   "outputs": [
    {
     "name": "stdout",
     "output_type": "stream",
     "text": [
      "False\n"
     ]
    }
   ],
   "source": [
    "a = 10\n",
    "b = [10, 20, 30, 40, 50]\n",
    "c = a not in b    # Here not in is the operator and a and b are the operands.\n",
    "print(c)"
   ]
  },
  {
   "cell_type": "markdown",
   "metadata": {},
   "source": [
    "- **Identity Operators**: Operators that check if two operands are the same object.  \n",
    "Identity Operators are of different types: `is` and `is not`."
   ]
  },
  {
   "cell_type": "markdown",
   "metadata": {},
   "source": [
    "- **`is`**: is operator is used to check if two operands are the same object.  \n",
    "For example:"
   ]
  },
  {
   "cell_type": "code",
   "execution_count": 133,
   "metadata": {},
   "outputs": [
    {
     "name": "stdout",
     "output_type": "stream",
     "text": [
      "True\n"
     ]
    }
   ],
   "source": [
    "a = 10\n",
    "b = 10\n",
    "c = a is b    # Here is is the operator and a and b are the operands.\n",
    "print(c)"
   ]
  },
  {
   "cell_type": "markdown",
   "metadata": {},
   "source": [
    "- **`is not`**: is not operator is used to check if two operands are not the same object.  \n",
    "For example:"
   ]
  },
  {
   "cell_type": "code",
   "execution_count": 134,
   "metadata": {},
   "outputs": [
    {
     "name": "stdout",
     "output_type": "stream",
     "text": [
      "True\n"
     ]
    }
   ],
   "source": [
    "a = 10\n",
    "b = 20\n",
    "c = a is not b    # Here is not is the operator and a and b are the operands.\n",
    "print(c)"
   ]
  },
  {
   "cell_type": "markdown",
   "metadata": {},
   "source": [
    "#### Ternary Operators\n",
    "Operators that operate on three operands."
   ]
  },
  {
   "cell_type": "markdown",
   "metadata": {},
   "source": [
    "- **`if-else`**: if-else operator is used to check if a condition is true and execute the first block of code if it is true, otherwise execute the second block of code.  \n",
    "For example:"
   ]
  },
  {
   "cell_type": "code",
   "execution_count": 135,
   "metadata": {},
   "outputs": [
    {
     "name": "stdout",
     "output_type": "stream",
     "text": [
      "20\n"
     ]
    }
   ],
   "source": [
    "a = 10\n",
    "b = 20\n",
    "c = a if a > b else b    # Here if-else is the operator and a and b are the operands.\n",
    "print(c)"
   ]
  },
  {
   "cell_type": "markdown",
   "metadata": {},
   "source": [
    "### Punctuators\n",
    "Punctuators are symbols that are used in Python to organise the structures, statements, and expressions.  \n",
    "Punctuators are of different types: `Hash #`, `Parentheses ()`, `Brackets []`, `Braces {}`, `Colon :`, `Semicolon ;`, `Comma ,`, `Dot .`.\n",
    "\n"
   ]
  },
  {
   "cell_type": "markdown",
   "metadata": {},
   "source": [
    "### Playground"
   ]
  },
  {
   "cell_type": "code",
   "execution_count": 136,
   "metadata": {},
   "outputs": [],
   "source": [
    "# Playground\n"
   ]
  }
 ],
 "metadata": {
  "kernelspec": {
   "display_name": "Python 3",
   "language": "python",
   "name": "python3"
  },
  "language_info": {
   "codemirror_mode": {
    "name": "ipython",
    "version": 3
   },
   "file_extension": ".py",
   "mimetype": "text/x-python",
   "name": "python",
   "nbconvert_exporter": "python",
   "pygments_lexer": "ipython3",
   "version": "3.8.9"
  }
 },
 "nbformat": 4,
 "nbformat_minor": 2
}
