{
 "cells": [
  {
   "cell_type": "markdown",
   "metadata": {},
   "source": [
    "# Introduction\n",
    "\n",
    "Python is a **high-level**, **interpreted programming language** developed by **Guido van Rossum** in **1991**.\n",
    "\n",
    "- **High-level language**: A programming language that is more abstracted from machine code, making it easier for humans to read and write.\n",
    "\n",
    "- **Interpreted language**: A programming language that is executed directly by an interpreter (Line by line), rather than compiled into machine code.\n",
    "\n",
    "- **Compiled language**: A programming language that is compiled into machine code before execution.\n",
    "\n",
    "## The main features of Python\n",
    "\n",
    "- **Readability**. Python is known for its clear and readable syntax, which resembles English to a certain extent.\n",
    "- **Easy to learn**. Python’s readability makes it relatively easy for beginners to pick up the language and understand what the code is doing.\n",
    "- **Versatility**. Python is not limited to one type of task; you can use it in many fields. Whether you're interested in web development, automating tasks, or diving into data science, Python has the tools to help you get there.\n",
    "- **Rich library support**. It comes with a large standard library that includes pre-written code for various tasks, saving you time and effort. Additionally, Python's vibrant community has developed thousands of third-party packages, which extend Python's functionality even further.\n",
    "- **Platform independence**. One of the great things about the language is that you can write your code once and run it on any operating system. This feature makes Python a great choice if you're working on a team with different operating systems.\n",
    "- **Interpreted language**. Python is an interpreted language, which means the code is executed line by line. This can make debugging easier because you can test small pieces of code without having to compile the whole program.\n",
    "- **Open source and free**. It’s also an open-source language, which means its source code is freely available and can be distributed and modified. This has led to a large community of developers contributing to its development and creating a vast ecosystem of Python libraries.\n",
    "- **Dynamically typed**. Python is dynamically typed, meaning you don't have to declare the data type of a variable when you create it. The Python interpreter infers the type, which makes the code more flexible and easy to work with."
   ]
  }
 ],
 "metadata": {
  "language_info": {
   "name": "python"
  }
 },
 "nbformat": 4,
 "nbformat_minor": 2
}
