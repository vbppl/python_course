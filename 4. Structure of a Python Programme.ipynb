{
 "cells": [
  {
   "cell_type": "markdown",
   "metadata": {},
   "source": [
    "# **Structure of a Python Program**\n",
    "\n",
    "Python programme contains various components: Comments, Expression, Statements, Function (Definition and Call), Indentation.\n",
    "\n",
    "![Structure of a python program](images/StructureofaPythonProgramme.png)\n",
    "\n",
    "- **Comments and Inline Comments**: Comments are used to explain the code. They are ignored by the interpreter.\n",
    "\tFor example:\n",
    "\t```python\n",
    "\t# This is a comment\n",
    "\t# Structure of a python program\n",
    "\t# Definition of function compare\n",
    "\tdef compare():  # Function Definition\n",
    "\t```\n",
    "\tIn this above example first, second and third are comments and fourth (# Function Definition) is a inline comment.\n",
    "\n",
    "- **Expression**: An expression is a combination of variables, operators, and values that the interpreter evaluates.\n",
    "\tFor example:\n",
    "\t```python\n",
    "\ta = x + 10\n",
    "\tprint(x+10)\n",
    "\tb = x - 10\n",
    "\tprint(x-10)\n",
    "\t```\n",
    "\tIn the above example, `x + 10` and `x - 10` are expressions that are evaluated to produce a value.\n",
    "\n",
    "- **Statements**: A statement is a complete unit of instruction. \n",
    "\tFor example:\n",
    "\t```python\n",
    "\tx = int(input(\"Enter first number: \"))\n",
    "\ty = int(input(\"Enter second number: \"))\n",
    "\ta = x + 10\n",
    "\tprint(x+10)\n",
    "\tb = x - 10\n",
    "\tprint(x-10)\n",
    "    # Compare two no’s\n",
    "\tif a > b:\n",
    "\t\tprint(\"a is greater than b\")\n",
    "\t```\n",
    "\n",
    "- **Function (Definition and Call)**: A function is a block of code that performs a specific task which can be reused in a program.\n",
    "\tFor example:\n",
    "\t```python\n",
    "\tdef compare():\t# Fucntion definition\n",
    "\t\n",
    "\tcompare()\t# Function call\n",
    "\t```\n",
    "\n",
    "- **Block**: A block is a collection of statements that are grouped together.\n",
    "\tFor example:\n",
    "\t```python\n",
    "\tif a > b:  # this statement compares the values of a and b\n",
    "\t\tprint(\"a is greater than b\")\n",
    "\telse:  #this statement is executed if the condition is false\n",
    "\t\tprint(\"b is greater than a\")\n",
    "\t```\n",
    "\n",
    "- **Indentation**: Python uses indentation to define the scope of the code.\n",
    "\tFor example:\n",
    "\t```python\n",
    "\tif a > b:  # this statement compares the values of a and b\n",
    "\t\tprint(\"a is greater than b\")\n",
    "\telse:  #this statement is executed if the condition is false\n",
    "\t\tprint(\"b is greater than a\")\n",
    "\t```\n",
    "\n"
   ]
  },
  {
   "cell_type": "markdown",
   "metadata": {},
   "source": [
    "##### Write your first function"
   ]
  },
  {
   "cell_type": "code",
   "execution_count": 1,
   "metadata": {},
   "outputs": [
    {
     "name": "stdout",
     "output_type": "stream",
     "text": [
      "Hello, World!\n"
     ]
    }
   ],
   "source": [
    "def first_function():\t# Function definition\n",
    "\tprint(\"Hello, World!\")\n",
    "\n",
    "first_function()  # Function Call"
   ]
  },
  {
   "cell_type": "markdown",
   "metadata": {},
   "source": [
    "### Playground"
   ]
  },
  {
   "cell_type": "code",
   "execution_count": 26,
   "metadata": {},
   "outputs": [],
   "source": [
    "# Playground"
   ]
  }
 ],
 "metadata": {
  "kernelspec": {
   "display_name": ".venv",
   "language": "python",
   "name": "python3"
  },
  "language_info": {
   "codemirror_mode": {
    "name": "ipython",
    "version": 3
   },
   "file_extension": ".py",
   "mimetype": "text/x-python",
   "name": "python",
   "nbconvert_exporter": "python",
   "pygments_lexer": "ipython3",
   "version": "3.13.1"
  }
 },
 "nbformat": 4,
 "nbformat_minor": 2
}
