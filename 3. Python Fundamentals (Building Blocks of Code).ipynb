{
 "cells": [
  {
   "cell_type": "markdown",
   "metadata": {},
   "source": [
    "# Python Fundamentals: Building Blocks of Code"
   ]
  },
  {
   "cell_type": "markdown",
   "metadata": {},
   "source": [
    "## Tokens (Lexical Units)\n",
    "\n",
    "Tokens are the smallest unit of a program that are meaningful to the language. Think of tokens as the basic words, symbols, and punctuation that Python understands. Just like human languages have words (nouns, verbs) and punctuation (commas, periods), Python has tokens.\n",
    "\n",
    "When you run your code, Python first breaks it down into these tokens to understand its structure and meaning.\n",
    "\n",
    "The main types of tokens in Python are:\n",
    "*   [Keywords](#Keywords)\n",
    "*   [Identifiers](#Identifiers)\n",
    "*   [Literals](#Literals)\n",
    "*   [Operators](#Operators)\n",
    "*   [Punctuators](#Punctuators)"
   ]
  },
  {
   "cell_type": "markdown",
   "metadata": {},
   "source": [
    "### Keywords\n",
    "\n",
    "Keywords are reserved words in Python that have predefined meanings and purposes. You **cannot** use them as Identifiers, because Python uses them for specific built-in operations and language structures.\n",
    "- In python there are 35 keywords.\n",
    "\n",
    "** Note:** To use keywords in your programme, you can directly use them in your code without importing any library.\n",
    "\n",
    "**Example:**"
   ]
  },
  {
   "cell_type": "code",
   "execution_count": 34,
   "metadata": {},
   "outputs": [
    {
     "name": "stdout",
     "output_type": "stream",
     "text": [
      "Output:\n",
      "You are an adult.\n"
     ]
    }
   ],
   "source": [
    "# Using the 'if' keyword to make a decision\n",
    "age = 20\n",
    "\n",
    "print(\"Output:\")\n",
    "\n",
    "if age >= 18:\n",
    "    print(\"You are an adult.\") # print is a built-in function\n",
    "\n",
    "else:\n",
    "    print(\"You are a minor.\")"
   ]
  },
  {
   "cell_type": "markdown",
   "metadata": {},
   "source": [
    "In the code above, `if` and `else` are keywords that control the flow of the program based on a condition (`age >= 18`). `print` is a built-in function used to display output.\n",
    "\n",
    "\n",
    "\n",
    "> **Important:** In python keywords, built-in functions and data types are different. A built-in function and data type can be used as a variable name, but it is not a good practice.\n",
    ">\n",
    "> **Example**:"
   ]
  },
  {
   "cell_type": "code",
   "execution_count": 35,
   "metadata": {},
   "outputs": [
    {
     "name": "stdout",
     "output_type": "stream",
     "text": [
      "Output:\n",
      "5\n"
     ]
    }
   ],
   "source": [
    "int = 5  # This is a valid variable name, but it's not a good practice\n",
    "\n",
    "print(\"Output:\")\n",
    "print(int)  # This will print the value of the variable"
   ]
  },
  {
   "cell_type": "markdown",
   "metadata": {},
   "source": [
    "> **Important Note:** \n",
    "> - You can get the list of available keywords by using help() function in python.\n",
    "> - help() function is a built-in function in Python that provides information about any object passed to it like modules (math), functions (print), keywords (class) and data types (int) etc. In this case, we are passing the string \"keywords\" to get a list of all the keywords in Python."
   ]
  },
  {
   "cell_type": "code",
   "execution_count": 36,
   "metadata": {},
   "outputs": [
    {
     "name": "stdout",
     "output_type": "stream",
     "text": [
      "Output:\n",
      "\n",
      "Here is a list of the Python keywords.  Enter any keyword to get more help.\n",
      "\n",
      "False               class               from                or\n",
      "None                continue            global              pass\n",
      "True                def                 if                  raise\n",
      "and                 del                 import              return\n",
      "as                  elif                in                  try\n",
      "assert              else                is                  while\n",
      "async               except              lambda              with\n",
      "await               finally             nonlocal            yield\n",
      "break               for                 not                 \n",
      "\n"
     ]
    }
   ],
   "source": [
    "print(\"Output:\")\n",
    "help(\"keywords\")"
   ]
  },
  {
   "cell_type": "markdown",
   "metadata": {},
   "source": [
    "> - You can also use the `keyword` module to get the list of keywords in Python.\n",
    "> - Python provides a module called `keyword` that provides four attributes `kwlist`, `iskeyword()`, `softkwlist`, `issoftkeyword` to get information about keywords and soft keywords.\n",
    "> - `kwlist` is a list of all the keywords in Python.\n",
    "> - `iskeyword()` is a function that takes a string as an argument and returns True if the string is a keyword, and False otherwise."
   ]
  },
  {
   "cell_type": "code",
   "execution_count": 37,
   "metadata": {},
   "outputs": [
    {
     "name": "stdout",
     "output_type": "stream",
     "text": [
      "Output:\n",
      "['False', 'None', 'True', 'and', 'as', 'assert', 'async', 'await', 'break', 'class', 'continue', 'def', 'del', 'elif', 'else', 'except', 'finally', 'for', 'from', 'global', 'if', 'import', 'in', 'is', 'lambda', 'nonlocal', 'not', 'or', 'pass', 'raise', 'return', 'try', 'while', 'with', 'yield']\n",
      "True\n",
      "False\n"
     ]
    }
   ],
   "source": [
    "import keyword\n",
    "# kwlist displays the list of keywords in Python\n",
    "print(\"Output:\")\n",
    "print(keyword.kwlist)\n",
    "\n",
    "# iskeyword checks if a string is a keyword\n",
    "print(keyword.iskeyword(\"if\"))\n",
    "print(keyword.iskeyword(\"int\"))"
   ]
  },
  {
   "cell_type": "markdown",
   "metadata": {},
   "source": [
    "> - `softkwlist` is a list of all the soft keywords in Python.\n",
    "> - `issoftkeyword()` is a function that takes a string as an argument and returns True if the string is a soft keyword, and False otherwise."
   ]
  },
  {
   "cell_type": "code",
   "execution_count": 38,
   "metadata": {},
   "outputs": [
    {
     "name": "stdout",
     "output_type": "stream",
     "text": [
      "Output:\n",
      "['_', 'case', 'match', 'type']\n",
      "True\n",
      "False\n"
     ]
    }
   ],
   "source": [
    "import keyword\n",
    "# softkwlist displays the list of soft keywords in Python\n",
    "print(\"Output:\")\n",
    "print(keyword.softkwlist)\n",
    "\n",
    "# issoftkeyword checks if a string is a soft keyword\n",
    "print(keyword.issoftkeyword(\"_\"))\n",
    "print(keyword.issoftkeyword(\"if\"))"
   ]
  },
  {
   "cell_type": "markdown",
   "metadata": {},
   "source": [
    "> **Soft keywords** were introduced in Python 3.10. Unlike regular keywords, soft keywords can only act as keywords in specific contexts. As of Python 3.12, there are four soft keywords: `_`, `case`, `match`, and `type`.\n",
    "> - `_` indicates a wildcard.\n",
    "> - `case` defines a specific case within a `match` statement.\n",
    "> - `match` used to define pattern matching blocks.\n",
    "> - `type` used to declare type aliases.\n",
    ">\n",
    "> Example:"
   ]
  },
  {
   "cell_type": "code",
   "execution_count": 39,
   "metadata": {},
   "outputs": [
    {
     "name": "stdout",
     "output_type": "stream",
     "text": [
      "Output:\n",
      "It's a\n",
      "It's something else\n",
      "It's b\n",
      "match is not a keyword here\n",
      "type is not a keyword here\n",
      "underscore is not a keyword here\n",
      "case is not a keyword here\n"
     ]
    }
   ],
   "source": [
    "# Example using match, case and _\n",
    "def process_data(data):\n",
    "    match data:\n",
    "        case \"a\":\n",
    "            print(\"It's a\")\n",
    "        case \"b\":\n",
    "            print(\"It's b\")\n",
    "        case _:\n",
    "            print(\"It's something else\")\n",
    "\n",
    "print(\"Output:\")\n",
    "\n",
    "# function calls\n",
    "process_data(\"a\")\n",
    "process_data(\"c\")\n",
    "process_data(\"b\")\n",
    "\n",
    "match = \"match is not a keyword here\"\n",
    "type = \"type is not a keyword here\"\n",
    "case = \"case is not a keyword here\"\n",
    "_ = \"underscore is not a keyword here\"\n",
    "\n",
    "print(match)\n",
    "print(type)\n",
    "print(_)\n",
    "print(case)"
   ]
  },
  {
   "cell_type": "markdown",
   "metadata": {},
   "source": [
    "In the code above, `match`, `case`, and `_` initially act as **soft keywords** within the scope of the function `process_data()`. Later, they are used as regular identifiers in the program without causing errors.\n",
    "\n",
    "Within the `process_data()` function:\n",
    "\n",
    "- `match` introduces a pattern matching block.\n",
    "- `case` specifies individual cases to match against.\n",
    "- `_` acts as a wildcard, matching any value not covered by defined cases.\n",
    "\n",
    "So\n",
    "- When `\"a\"` is passed, it matches `case \"a\"` and prints `\"It's a\"`.\n",
    "- When `\"b\"` is passed, it matches `case \"b\"` and prints `\"It's b\"`.\n",
    "- When `\"c\"` is passed, it doesn't match any specific case, so the wildcard `case _` executes and prints `\"It's something else\"`.\n",
    "\n",
    "After the function `process_data()` scope ends, `match`, `case`, and `_` are used as regular variable names in the program without errors.\n",
    "\n",
    "**Important:** It's a good practice to avoid using soft keywords as identifiers in your code, to maintain readability and avoid confusion."
   ]
  },
  {
   "cell_type": "code",
   "execution_count": 40,
   "metadata": {},
   "outputs": [
    {
     "name": "stdout",
     "output_type": "stream",
     "text": [
      "Output:\n",
      "Origin\n",
      "x=5, y=0\n",
      "x=0, y=any\n",
      "Other point\n"
     ]
    }
   ],
   "source": [
    "# Example using _ as a wildcard in pattern matching\n",
    "def process_point(point):\n",
    "    match point:\n",
    "        case (0, 0):\n",
    "            print(\"Origin\")\n",
    "        case (x, 0):\n",
    "            print(f\"x={x}, y=0\")\n",
    "        case (0, _):\n",
    "            print(f\"x=0, y=any\")\n",
    "        case _:\n",
    "            print(\"Other point\")\n",
    "\n",
    "print(\"Output:\")\n",
    "\n",
    "#fnction calls\n",
    "process_point((0, 0))\n",
    "process_point((5, 0))\n",
    "process_point((0, 2))\n",
    "process_point((3, 4))"
   ]
  },
  {
   "cell_type": "code",
   "execution_count": 1,
   "metadata": {},
   "outputs": [
    {
     "name": "stdout",
     "output_type": "stream",
     "text": [
      "Output:\n",
      "It's a string\n",
      "It's an integer\n",
      "It's a string\n",
      "It's something else\n"
     ]
    }
   ],
   "source": [
    "# Example using match, case, _\n",
    "def check_type(value):\n",
    "    match value:\n",
    "        case int():\n",
    "            print(\"It's an integer\")\n",
    "        case str():\n",
    "            print(\"It's a string\")\n",
    "        case _:\n",
    "            print(\"It's something else\")\n",
    "\n",
    "# function calls\n",
    "a = \"Hello World\"\n",
    "print(\"Output:\")\n",
    "check_type(a)\n",
    "check_type(10)\n",
    "check_type(\"hello\")\n",
    "check_type([1, 2, 3])"
   ]
  },
  {
   "cell_type": "code",
   "execution_count": null,
   "metadata": {},
   "outputs": [
    {
     "name": "stdout",
     "output_type": "stream",
     "text": [
      "Output:\n",
      "The distance between (1.0, 2.0) and (4.0, 6.0) is 5.0\n"
     ]
    }
   ],
   "source": [
    "# Example if type as a soft keyword\n",
    "type Point = tuple[float, float]\n",
    "\n",
    "def calculate_distance(point1: Point, point2: Point):\n",
    "    x1, y1 = point1\n",
    "    x2, y2 = point2\n",
    "    return ((x2 - x1)**2 + (y2 - y1)**2)**0.5\n",
    "\n",
    "p1: Point = (1.0, 2.0)\n",
    "p2: Point = (4.0, 6.0)\n",
    "\n",
    "distance = calculate_distance(p1, p2)\n",
    "\n",
    "print(\"Output:\")\n",
    "print(f\"The distance between {p1} and {p2} is {distance}\")\n"
   ]
  },
  {
   "cell_type": "markdown",
   "metadata": {},
   "source": [
    "### Identifiers\n",
    "\n",
    "Identifiers are the names you give to objects like variables, functions, classes, modules, etc. They are used to identify and access these objects in your code. Identifiers are like the names of people or places, which helps us to refer them.\n",
    "\n",
    "**Example:**\n",
    "```python\n",
    "# Identifiers: student_name, age, calculate_average, Student\n",
    "student_name = \"Alice\"\n",
    "age = 21\n",
    "\n",
    "def calculate_sum(a, b):\n",
    "  return a + b\n",
    "\n",
    "class Student:\n",
    "  # ... class definition ...\n",
    "  pass\n",
    "```\n",
    "In the above code, `student_name`, `age`, `calculate_sum`, and `Student` are identifiers.\n",
    "\n",
    "> **Rules and Conventions to name an identifier**\n",
    ">\n",
    "> **Rules (Must Follow):**\n",
    "> * An identifier can contain uppercase letters (`A`-`Z`), lowercase letters (`a`-`z`), digits (`0`-`9`), and the underscore (`_`).\n",
    "> * An identifier **must** start with a letter (`a`-`z`, `A`-`Z`) or an underscore (`_`). It **cannot** start with a digit.\n",
    "> * An identifier cannot contain spaces or special characters like `!`, `@`, `#`, `$`, `%`, `-`, `+`, etc. (except the underscore `_`).\n",
    "> * An identifier cannot be a Python [keyword](#Keywords).\n",
    "> * In Python, identifiers are **case-sensitive** `myVariable` is different from `myvariable`.\n",
    ">\n",
    "> **Conventions (Good Practice - Follow [**PEP 8**](https://peps.python.org/pep-0008)):**\n",
    "> * Use `lowercase` or `lowercase_with_underscores` for variable and function names (e.g., `calculate`, `student_age`, `calculate_total`).\n",
    "> * Use `CapWords` (or `PascalCase`) for class names (e.g., `Student`, `CarModel`).\n",
    "> * While there's no strict length limit enforced by the interpreter beyond system limits, keep identifiers reasonably concise (PEP 8 suggests [**maximum limiting lines**](https://peps.python.org/pep-0008/#maximum-line-length) to 79 characters, which influences identifier length).\n",
    ">\n",
    "\n",
    "> **Examples:**  \n",
    "> *   **Valid:** ✅  \n",
    "> `user_count`  \n",
    "> `_internal_data`  \n",
    "> `calculateTotal`  \n",
    "> `MAX_CONNECTIONS`  \n",
    "> `isValid`  \n",
    "> `name1`  \n",
    ">   \n",
    "> *   **Invalid:** ❌  \n",
    "> `1st_place`: starts with digit  \n",
    "> `user-name`: contains hyphen  \n",
    "> `class`: is a keyword  \n",
    "> `user name`: contains space  \n",
    "> `@username`: contains special character  \n",
    " \n",
    "> **PEP 8** stands for Python Enhancement Proposal number 8. It's the official style guide for Python code, providing guidelines on code layout, formatting, naming conventions, and other best practices to ensure readability and consistency across different Python projects.\n",
    ">\n",
    "> Read more: [PEP 8 -- Style Guide for Python Code](https://peps.python.org/pep-0008/)"
   ]
  },
  {
   "cell_type": "markdown",
   "metadata": {},
   "source": [
    "### Literals\n",
    "\n",
    "Literals are constants that represent fixed values in the programs.\n",
    "\n",
    "**Example:**\n",
    "```python\n",
    "my_integer = 10\n",
    "my_string = \"Hello, World!\"\n",
    "my_float = 10.5\n",
    "my_boolean = True\n",
    "my_special = None\n",
    "my_complex = 10 + 5j\n",
    "my_list = [1, 2, 3, 4, 5]\n",
    "my_tuple = (1, 2, 3, 4, 5)\n",
    "my_set = {1, 2, 3, 4, 5}\n",
    "my_dictionary = {\"name\": \"Jamyang\", \"age\": 20}\n",
    "```\n",
    "In this example, `10`, `\"Hello, World!\"`, `10.5`, `True`, `None`, and `[1, 2, 3, 4, 5]`, `{1, 2, 3, 4, 5}`, `{\"name\": \"Jamyang\", \"age\": 20}` are literals which are assigned to identifiers.\n",
    "\n",
    "Python supports various types of literals:\n",
    "*   [String Literals](#String-Literals)\n",
    "*   [Integer Literals](#Integer-Literals)\n",
    "*   [Float Literals](#Float-Literals)\n",
    "*   [Complex Literals](#Complex-Literals)\n",
    "*   [Boolean Literals](#Boolean-Literals)\n",
    "*   [Special Literal (None)](#None-Literal)\n",
    "*   [List Literals](#List-Literals)\n",
    "*   [Tuple Literals](#Tuple-Literals)\n",
    "*   [Set Literals](#Set-Literals)\n",
    "*   [Dictionary Literals](#Dictionary-Literals)"
   ]
  },
  {
   "cell_type": "markdown",
   "metadata": {},
   "source": [
    "#### String Literals\n",
    "\n",
    "Strings are sequences of characters enclosed in quotes (Single `'`, Double `\"` and triple `'''` or `\"\"\"`). \n",
    "\n",
    "*   **Single quotes:** `'Hello'`\n",
    "*   **Double quotes:** `\"World\"`\n",
    "*   **Triple quotes:** `'''Multi-line string'''` or `\"\"\"Another multi-line string\"\"\"` (Used for strings spanning multiple lines or containing both single and double quotes without escaping).\n",
    "\n",
    "**Examples:**"
   ]
  },
  {
   "cell_type": "code",
   "execution_count": 21,
   "metadata": {},
   "outputs": [
    {
     "name": "stdout",
     "output_type": "stream",
     "text": [
      "Output:\n",
      "This is a string.\n",
      "This is also a string.\n",
      "This string\n",
      "spans\n",
      "multiple lines.\n",
      "This one does too,\n",
      "using single triple quotes.\n"
     ]
    }
   ],
   "source": [
    "single_quoted = 'This is a string.'\n",
    "double_quoted = \"This is also a string.\"\n",
    "multi_line_triple_double = \"\"\"This string\n",
    "spans\n",
    "multiple lines.\"\"\"\n",
    "multi_line_triple_single = '''This one does too,\n",
    "using single triple quotes.'''\n",
    "\n",
    "print(\"Output:\")\n",
    "print(single_quoted)\n",
    "print(double_quoted)\n",
    "print(multi_line_triple_double)\n",
    "print(multi_line_triple_single)"
   ]
  },
  {
   "cell_type": "markdown",
   "metadata": {},
   "source": [
    "> **Using Quotes Inside Strings:**\n",
    "> * You can easily include single quotes within double-quoted strings and vice-versa:"
   ]
  },
  {
   "cell_type": "code",
   "execution_count": 20,
   "metadata": {},
   "outputs": [
    {
     "name": "stdout",
     "output_type": "stream",
     "text": [
      "Output:\n",
      "It's a beautiful day!\n",
      "He said, \"Hello!\"\n"
     ]
    }
   ],
   "source": [
    "message1 = \"It's a beautiful day!\"  # Single quote inside double quotes\n",
    "message2 = 'He said, \"Hello!\"'      # Double quote inside single quote\n",
    "\n",
    "print(\"Output:\")\n",
    "print(message1)\n",
    "print(message2)"
   ]
  },
  {
   "cell_type": "markdown",
   "metadata": {},
   "source": [
    "> * If you need to use the same type of quotes inside a string, you can escape them with a backslash (`\\`):"
   ]
  },
  {
   "cell_type": "code",
   "execution_count": null,
   "metadata": {},
   "outputs": [
    {
     "name": "stdout",
     "output_type": "stream",
     "text": [
      "It's a beautiful day!\n",
      "He said, \"Hello!\"\n"
     ]
    }
   ],
   "source": [
    "message3 = 'It\\'s a beautiful day!'  # Escaping single quote\n",
    "message4 = \"He said, \\\"Hello!\\\"\"     # Escaping double quote\n",
    "\n",
    "print(\"Output:\")\n",
    "print(message3)\n",
    "print(message4)"
   ]
  },
  {
   "cell_type": "markdown",
   "metadata": {},
   "source": [
    "> * Triple quotes are useful when a string needs to contain both single and double quotes:"
   ]
  },
  {
   "cell_type": "code",
   "execution_count": 19,
   "metadata": {},
   "outputs": [
    {
     "name": "stdout",
     "output_type": "stream",
     "text": [
      "Output:\n",
      "She said, \"Isn't 'Python' great?\n"
     ]
    }
   ],
   "source": [
    "complex_message = \"\"\"She said, \"Isn't 'Python' great?\"\"\"\n",
    "\n",
    "print(\"Output:\")\n",
    "print(complex_message)"
   ]
  },
  {
   "cell_type": "markdown",
   "metadata": {},
   "source": [
    "> **Escape Sequences:**\n",
    "> Special characters can be included in strings using escape sequences, which start with a backslash (`\\`).\n",
    ">\n",
    "> | **Escape Sequence** | **Meaning**                       | **Example**                     | **Output**       |\n",
    "> |-------------------|-----------------------------------|---------------------------------|------------------|\n",
    "> | `\\'`             | Single quote (')                  | `print('It\\'s')`                      | `It's`           |\n",
    "> | `\\\"`             | Double quote (\")                 | `print(\"He said \\\"Hi\\\".\")`          | `He said \"Hi\".` |\n",
    "> | `\\\\`             | Backslash (\\)                    | `print('C:\\\\Users\\\\Name')`           | `C:\\Users\\Name`  |\n",
    "> | `\\n`             | Newline                           | `print('Hello\\nWorld')`               | `Hello` <br/> `World` |\n",
    "> | `\\t`             | Horizontal Tab                    | `print('Name:\\tAlice')`               | `Name:    Alice`\n",
    "> \n",
    "> **Raw Strings:**\n",
    "> Prefix a string literal with `r` or `R` to create a raw string. In raw strings, backslashes are treated as literal characters, not escape sequence introducers. This is useful for regular expressions or file paths."
   ]
  },
  {
   "cell_type": "code",
   "execution_count": 18,
   "metadata": {},
   "outputs": [
    {
     "name": "stdout",
     "output_type": "stream",
     "text": [
      "Output:\n",
      "C:\\Users\\Documents\\new_folder\n"
     ]
    }
   ],
   "source": [
    "path = r\"C:\\Users\\Documents\\new_folder\"\n",
    "\n",
    "print(\"Output:\")\n",
    "print(path)"
   ]
  },
  {
   "cell_type": "markdown",
   "metadata": {},
   "source": [
    "#### Integer Literals\n",
    "\n",
    "Integers are whole numbers with or without positive or negative sign. The number with no sign is considered positive. Integers can be represented in different bases:\n",
    "\n",
    "*   **Decimal (Base 10):** Decimal numbers are written in base 10.\n",
    "\n",
    "\tFor example:"
   ]
  },
  {
   "cell_type": "code",
   "execution_count": 17,
   "metadata": {},
   "outputs": [
    {
     "name": "stdout",
     "output_type": "stream",
     "text": [
      "Output:\n",
      "10\n",
      "-10\n",
      "<class 'int'>\n"
     ]
    }
   ],
   "source": [
    "positive_int = 10\n",
    "negative_int = -10\n",
    "\n",
    "print(\"Output:\")\n",
    "print(positive_int)\n",
    "print(negative_int)\n",
    "print(type(positive_int))"
   ]
  },
  {
   "cell_type": "markdown",
   "metadata": {},
   "source": [
    "*   **Binary (Base 2):** Binary numbers are written in base 2.  \n",
    "In python, to represent a binary number, we need to prefix with `0b` or `0B`.\n",
    "\n",
    "\tFor example:"
   ]
  },
  {
   "cell_type": "code",
   "execution_count": 16,
   "metadata": {},
   "outputs": [
    {
     "name": "stdout",
     "output_type": "stream",
     "text": [
      "Output:\n",
      "10\n",
      "<class 'int'>\n"
     ]
    }
   ],
   "source": [
    "binary_int = 0b1010  # (1 * 2^3) + (0 * 2^2) + (1 * 2^1) + (0 * 2^0) = 8 + 0 + 2 + 0 = 10\n",
    "\n",
    "print(\"Output:\")\n",
    "print(binary_int)\n",
    "print(type(binary_int))"
   ]
  },
  {
   "cell_type": "markdown",
   "metadata": {},
   "source": [
    "*   **Octal (Base 8):** Octal integers are written in base 8.  \n",
    "\tIn Python, to represent an octal integer, we need to prefix the integer with `0o` or `0O`.\n",
    "\n",
    "\tFor example:"
   ]
  },
  {
   "cell_type": "code",
   "execution_count": 15,
   "metadata": {},
   "outputs": [
    {
     "name": "stdout",
     "output_type": "stream",
     "text": [
      "Output:\n",
      "10\n",
      "<class 'int'>\n"
     ]
    }
   ],
   "source": [
    "octal_int = 0o12  # (1 * 8^1) + (2 * 8^0) = 8 + 2 = 10\n",
    "\n",
    "print(\"Output:\")\n",
    "print(octal_int)\n",
    "print(type(octal_int))"
   ]
  },
  {
   "cell_type": "markdown",
   "metadata": {},
   "source": [
    "\n",
    "*   **Hexadecimal (Base 16):** Hexadecimal integers are written in base 16.  \n",
    "\tIn Python, to represent a hexadecimal integer, we need to prefix the integer with `0x` or `0X`. For hexadecimal number use `0-9` and letters `A-F` (or `a-f`)."
   ]
  },
  {
   "cell_type": "code",
   "execution_count": 14,
   "metadata": {},
   "outputs": [
    {
     "name": "stdout",
     "output_type": "stream",
     "text": [
      "Output:\n",
      "10\n",
      "<class 'int'>\n"
     ]
    }
   ],
   "source": [
    "hex_int = 0xA  # (10 * 16^0) = 10\n",
    "\n",
    "print(\"Output:\")\n",
    "print(hex_int)\n",
    "print(type(hex_int))"
   ]
  },
  {
   "cell_type": "markdown",
   "metadata": {},
   "source": [
    "#### Float Literals\n",
    "\n",
    "Floats (or floating point numbers) are real numbers (or numbers with decimal point), the number with no sign is considered positive.  \n",
    "\n",
    "Floats can be represented in two main forms: **Fractional form** or **Exponential form** \n",
    "\n",
    "> For example:\n",
    "> ```python\n",
    "> my_float = 10.5  # Fractional form\n",
    "> my_float = 1.05e1  # Exponential form\n",
    "> ```\n",
    "\n",
    "*   **Fractional Form:** The fractional form of a floating-point number is written as a decimal number with a decimal point. "
   ]
  },
  {
   "cell_type": "code",
   "execution_count": 13,
   "metadata": {},
   "outputs": [
    {
     "name": "stdout",
     "output_type": "stream",
     "text": [
      "Output:\n",
      "3.14159\n",
      "-0.001\n",
      "10.0\n",
      "<class 'float'>\n"
     ]
    }
   ],
   "source": [
    "float_frac = 3.14159\n",
    "negative_float = -0.001\n",
    "positive_float = 10.0 # Still a float\n",
    "\n",
    "print(\"Output:\")\n",
    "print(float_frac)\n",
    "print(negative_float)\n",
    "print(positive_float)\n",
    "print(type(float_frac))"
   ]
  },
  {
   "cell_type": "markdown",
   "metadata": {},
   "source": [
    "*   **Exponential Form (Scientific Notation):** The exponential form of a floating-point number is written as a decimal number (Mantissa) with an exponent separated by `e` or `E`.  \n",
    "\n",
    "\tExample: `xey` means `x * 10^y`."
   ]
  },
  {
   "cell_type": "code",
   "execution_count": 12,
   "metadata": {},
   "outputs": [
    {
     "name": "stdout",
     "output_type": "stream",
     "text": [
      "Output:\n",
      "12300.0\n",
      "0.00567\n",
      "<class 'float'>\n"
     ]
    }
   ],
   "source": [
    "float_exp = 1.23e4  # 1.23 * 10^4 = 12300.0\n",
    "small_float = 5.67E-3 # 5.67 * 10^-3 = 0.00567\n",
    "\n",
    "print(\"Output:\")\n",
    "print(float_exp)\n",
    "print(small_float)\n",
    "print(type(float_exp))"
   ]
  },
  {
   "cell_type": "markdown",
   "metadata": {},
   "source": [
    "#### Complex Literals\n",
    "\n",
    "Complex numbers are written in the form `a + bj`, where `a` is the real part and `b` is the imaginary part."
   ]
  },
  {
   "cell_type": "code",
   "execution_count": 3,
   "metadata": {},
   "outputs": [
    {
     "name": "stdout",
     "output_type": "stream",
     "text": [
      "Output:\n",
      "Complex Number 1: (2+3j)\n",
      "Complex Number 2: (-0-5j)\n",
      "Complex Number 3: (4.5+0j)\n",
      "Real Part of Complex Number 1: 2.0\n",
      "Imaginary Part of Complex Number 1: 3.0\n",
      "Type of Complex Number 1: <class 'complex'>\n"
     ]
    }
   ],
   "source": [
    "complex_num1 = 2 + 3j\n",
    "complex_num2 = -5j      # Real part is 0\n",
    "complex_num3 = 4.5 + 0j # Imaginary part is 0\n",
    "\n",
    "print(\"Output:\")\n",
    "print(f\"Complex Number 1: {complex_num1}\")\n",
    "print(f\"Complex Number 2: {complex_num2}\")\n",
    "print(f\"Complex Number 3: {complex_num3}\")\n",
    "print(f\"Real Part of Complex Number 1: {complex_num1.real}\") \t# Real part\n",
    "print(f\"Imaginary Part of Complex Number 1: {complex_num1.imag}\") \t# Imaginary part\n",
    "print(f\"Type of Complex Number 1: {type(complex_num1)}\")"
   ]
  },
  {
   "cell_type": "markdown",
   "metadata": {},
   "source": [
    "#### Boolean Literals\n",
    "\n",
    "Boolean literals represent truth values. There are only two:\n",
    "*   `True`: Represents truth.\n",
    "*   `False`: Represents falsehood.\n",
    "\n",
    "**Note:** `True` and `False` are keywords so must be capitalized."
   ]
  },
  {
   "cell_type": "code",
   "execution_count": 10,
   "metadata": {},
   "outputs": [
    {
     "name": "stdout",
     "output_type": "stream",
     "text": [
      "Output:\n",
      "True\n",
      "False\n",
      "<class 'bool'>\n"
     ]
    }
   ],
   "source": [
    "is_active = True\n",
    "permission_granted = False\n",
    "\n",
    "print(\"Output:\")\n",
    "print(is_active)\n",
    "print(permission_granted)\n",
    "print(type(is_active))"
   ]
  },
  {
   "cell_type": "markdown",
   "metadata": {},
   "source": [
    "#### None Literal\n",
    "\n",
    "Python has a special literal called `None` (also a keyword). It represents the absence of a value or a null value. It is often used as a placeholder or to indicate that a variable does not refer to any object yet.\n",
    "\n",
    "**Note:** In python `None` is a keyword so it must be capitalized"
   ]
  },
  {
   "cell_type": "code",
   "execution_count": 9,
   "metadata": {},
   "outputs": [
    {
     "name": "stdout",
     "output_type": "stream",
     "text": [
      "Output:\n",
      "None\n",
      "<class 'NoneType'>\n"
     ]
    }
   ],
   "source": [
    "result = None\n",
    "\n",
    "print(\"Output:\")\n",
    "print(result)\n",
    "print(type(None))"
   ]
  },
  {
   "cell_type": "code",
   "execution_count": 7,
   "metadata": {},
   "outputs": [
    {
     "name": "stdout",
     "output_type": "stream",
     "text": [
      "Output:\n",
      "No data provided\n",
      "Output:\n",
      "Data received: Some information\n"
     ]
    }
   ],
   "source": [
    "# None is often passed as the default value for function arguments\n",
    "def my_function(data=None):\n",
    "  print(\"Output:\")\n",
    "  if data is None:\n",
    "    print(\"No data provided\")\n",
    "  else:\n",
    "    print(\"Data received:\", data)\n",
    "\n",
    "my_function()\n",
    "my_function(\"Some information\")"
   ]
  },
  {
   "cell_type": "markdown",
   "metadata": {},
   "source": [
    "#### List Literals\n",
    "\n",
    "Lists are ordered, indexed, mutable, heterogeneous sequences of items. Enclosed in square brackets `[]`, separated by `,`.\n",
    "\n",
    "Key characteristics of lists in Python are:\n",
    "- `Ordered`: Elements in the list are ordered, and that order is preserved.\n",
    "- `Indexed`: Elements in a list can be accessed using their index, starting from `0` for the first element. Negative indexing can be used to access elements from the end of the list. Last element can be accessed using `-1`\n",
    "- `Mutable`: Lists can be modified after creation, allowing addition, removal, and changes to elements.\n",
    "- `Heterogeneous`: Lists can store elements of different data types.\n",
    "- `Dynamic`: Lists can grow or shrink in size as needed, without a need to predefine their size.\n",
    "- `Iterable`: Lists can be iterated over using loops, allowing processing of each element.\n",
    "- `Allows duplicates`: Lists can contain duplicate values.\n",
    "\n",
    "**Example:**"
   ]
  },
  {
   "cell_type": "code",
   "execution_count": null,
   "metadata": {},
   "outputs": [
    {
     "name": "stdout",
     "output_type": "stream",
     "text": [
      "Output:\n",
      "[1, 'hello world!', 3.14, True]\n",
      "[42]\n",
      "[]\n",
      "\n",
      " 1\n",
      "3.14\n",
      "True\n",
      "\n",
      " [1, 'hello world!', 3.14, 'False']\n",
      "\n",
      " [1, 'hello world!', 3.14, 'False', 'new item']\n",
      "\n",
      " [1, 'hello world!', 'False', 'new item']\n",
      "\n",
      " [0, 1, 4, 9, 16]\n"
     ]
    }
   ],
   "source": [
    "# Creating list\n",
    "my_list = [1, \"hello world!\", 3.14, True]\n",
    "my_single_item_list = [42]  # List with a single item\n",
    "my_empty_list = []  # Empty list\n",
    "\n",
    "print(\"Output:\")\n",
    "\n",
    "# Printing the lists\n",
    "print(my_list)  # Output: [1, 'hello world!', 3.14, True]\n",
    "print(my_single_item_list)  # Output: [42]\n",
    "print(my_empty_list)  # Output: []\n",
    "\n",
    "# Accessing elements by index (index starts at 0)\n",
    "print(\"\\n\", my_list[0])  # Output: 1\n",
    "print(my_list[2])  # Output: 3.14\n",
    "print(my_list[-1])  # Output: True (last element)\n",
    "\n",
    "# Modifying elements\n",
    "my_list[3] = \"False\"\n",
    "print(\"\\n\", my_list)  # Output: [1, 'hello world!', 3.14, 'False']\n",
    "\n",
    "# Adding elements\n",
    "my_list.append(\"new item\")\n",
    "print(\"\\n\", my_list)  # Output: [1, 'hello world!', 3.14, 'False', 'new item']\n",
    "\n",
    "# Removing elements\n",
    "my_list.remove(3.14)\n",
    "print(\"\\n\", my_list)  # Output: [1, 'hello world!', 'False', 'new item']\n",
    "\n",
    "# List comprehension\n",
    "squares = [x**2 for x in range(5)]\n",
    "print(\"\\n\", squares)  # Output: [0, 1, 4, 9, 16]"
   ]
  },
  {
   "cell_type": "markdown",
   "metadata": {},
   "source": [
    "#### Tuple Literals\n",
    "\n",
    "Tuples are ordered, indexed, immutable, heterogeneous sequences of items. Enclosed in parentheses `()`, separated by `,`.\n",
    "\n",
    "Key Characteristics of Tuples:\n",
    "- `Ordered`: Elements in the tuple are ordered, and that order is preserved.\n",
    "- `Indexed`: Elements in a tuple can be accessed using their index, starting from `0` for the first element. Negative indexing can be used to access elements from the end of the tuple. Last element can be accessed using `-1`\n",
    "- `Immutable`: Tuples cannot be modified after creation, meaning elements cannot be added, removed, or changed.\n",
    "- `Heterogeneous`: Tuples can store elements of different data types.\n",
    "- `Static`: Tuples cannot grow or shrink in size after creation.\n",
    "- `Iterable`: Tuples can be iterated over using loops, allowing processing of each element.\n",
    "- `Allows duplicates`: Tuples can contain duplicate values."
   ]
  },
  {
   "cell_type": "code",
   "execution_count": null,
   "metadata": {},
   "outputs": [
    {
     "name": "stdout",
     "output_type": "stream",
     "text": [
      "Output:\n",
      "(1, 'hello world', 3.14, True)\n",
      "(42,)\n",
      "()\n",
      "\n",
      " 1\n",
      "3.14\n",
      "True\n"
     ]
    }
   ],
   "source": [
    "# Creating tuple\n",
    "my_tuple = (1, \"hello world\", 3.14, True)\n",
    "my_single_item_tuple = (42,)  # Comma is crucial for single-item tuples\n",
    "my_empty_tuple = ()  # Empty tuple\n",
    "\n",
    "print(\"Output:\")\n",
    "\n",
    "# Printing the tuples\n",
    "print(my_tuple)  # Output: (1, 'hello world', 3.14, True)\n",
    "print(my_single_item_tuple)  # Output: (42,)\n",
    "print(my_empty_tuple)  # Output: ()\n",
    "\n",
    "# Accessing elements by index (index starts at 0)\n",
    "print(\"\\n\", my_tuple[0])  # Output: 1\n",
    "print(my_tuple[2])  # Output: 3.14\n",
    "print(my_tuple[-1])  # Output: True (last element)"
   ]
  },
  {
   "cell_type": "markdown",
   "metadata": {},
   "source": [
    "#### Set Literals\n",
    "\n",
    "Sets are unordered, unindexed, mutable, heterogeneous collections of unique items. Enclosed in curly braces `{}`, separated by `,`.  \n",
    "\n",
    "Key Characteristics of Sets:\n",
    "- `Unordered`: Elements in the sets are unordered.\n",
    "- `Unindexed`: Elements in a set cannot be accessed using an index.\n",
    "- `Mutable`: Sets can be modified after creation, allowing addition, removal, and changes to elements.\n",
    "- `Heterogeneous`: Sets can store elements of different data types.\n",
    "- `Dynamic`: Sets can grow or shrink in size as needed, without a need to predefine their size.\n",
    "- `Iterable`: Sets can be iterated over using loops, allowing processing of each element.\n",
    "- `Unique`: Sets do not allow duplicate values. If duplicates are added, they will be ignored. "
   ]
  },
  {
   "cell_type": "code",
   "execution_count": null,
   "metadata": {},
   "outputs": [
    {
     "name": "stdout",
     "output_type": "stream",
     "text": [
      "Output:\n",
      "{1, 3.14, 'apple'}\n",
      "set()\n"
     ]
    }
   ],
   "source": [
    "# Creating set\n",
    "my_set = {1, \"apple\", 3.14, 1, \"apple\"} # Duplicates are ignored\n",
    "my_empty_set = set() # Cannot use {} for empty set, as that creates an empty dictionary\n",
    "\n",
    "print(\"Output:\")\n",
    "\n",
    "# Printing the sets\n",
    "print(my_set)  # Output: {1, 3.14, 'apple'}\n",
    "print(my_empty_set)  # Output: set()"
   ]
  },
  {
   "cell_type": "markdown",
   "metadata": {},
   "source": [
    "#### Dictionary Literals\n",
    "Dictionaries are unordered, indexed, mutable, heterogeneous collections of key-value pairs. Enclosed in curly braces `{}`, with key-value pairs separated by `:` and items separated by `,`.\n",
    "\n",
    "Key Characteristics of Dictionaries:\n",
    "- `Ordered`: Elements in the dictionary are ordered, and that order is preserved.\n",
    "- `Indexed`: Elements in a Dictionary can be accessed using their keys.\n",
    "- `Mutable`: Dictionaries can be modified after creation, allowing addition, removal, and changes to key-value pairs.\n",
    "- `Heterogeneous`: Dictionaries can store keys and values of different data types.\n",
    "- `Dynamic`: Dictionaries can grow or shrink in size as needed, without a need to predefine their size.\n",
    "- `Iterable`: Dictionaries can be iterated over using loops, allowing processing of each key-value pair.\n",
    "- `Unique`: Dictionary keys must be unique. If a duplicate key is added, the original value will be overwritten."
   ]
  },
  {
   "cell_type": "code",
   "execution_count": 19,
   "metadata": {},
   "outputs": [
    {
     "name": "stdout",
     "output_type": "stream",
     "text": [
      "Output:\n",
      "{'name': 'Alice', 'age': 30, 'city': 'New York'}\n",
      "{}\n",
      "\n",
      " 30\n",
      "\n",
      " {'name': 'Alice', 'age': 31, 'city': 'New York'}\n",
      "\n",
      " {'name': 'Alice', 'age': 31, 'city': 'New York', 'email': 'alice@example.com'}\n",
      "\n",
      " {'name': 'Alice', 'age': 31, 'email': 'alice@example.com'}\n"
     ]
    }
   ],
   "source": [
    "# Creating dictionary\n",
    "my_dict = {\"name\": \"Alice\", \"age\": 30, \"city\": \"New York\"}\n",
    "my_empty_dict = {}\n",
    "\n",
    "print(\"Output:\")\n",
    "\n",
    "# Printing the dictionary\n",
    "print(my_dict)\n",
    "print(my_empty_dict)  # Output: {}\n",
    "\n",
    "# Accessing values by keys\n",
    "print(\"\\n\", my_dict[\"age\"]) # Access value by key\n",
    "\n",
    "# Modifing elements\n",
    "my_dict[\"age\"] = 31  # Update existing key\n",
    "print(\"\\n\", my_dict)  # Output: {'name': 'Alice', 'age': 31, 'city': 'New York'}\n",
    "\n",
    "# Adding new elements\n",
    "my_dict[\"email\"] = \"alice@example.com\" # Add or update key-value pairs\n",
    "print(\"\\n\", my_dict)\n",
    "\n",
    "# Removing elements\n",
    "my_dict.pop(\"city\")  # Remove key-value pair by key\n",
    "print(\"\\n\", my_dict)  # Output: {'name': 'Alice', 'age': 31, 'email': '"
   ]
  },
  {
   "cell_type": "markdown",
   "metadata": {},
   "source": [
    "### Operators\n",
    "\n",
    "Operators are special symbols that perform operations on variables and values. The variables and values that operators work on are called **operands**.\n",
    "\n",
    "**Example:**"
   ]
  },
  {
   "cell_type": "code",
   "execution_count": 4,
   "metadata": {},
   "outputs": [
    {
     "name": "stdout",
     "output_type": "stream",
     "text": [
      "Output:\n",
      "15\n"
     ]
    }
   ],
   "source": [
    "a = 10  # Operand: 10 (Literal)\n",
    "sum_result = a + 5 # Operands: a, 5 and Operator: +, =\n",
    "\n",
    "print(\"Output:\")\n",
    "print(sum_result)"
   ]
  },
  {
   "cell_type": "markdown",
   "metadata": {},
   "source": [
    "Operators can be classified based on the number of operands they take:\n",
    "*   [**Unary Operators:**](#Unary-Operators) Operate on one operand (e.g., `-5`, `not True`).\n",
    "*   [**Binary Operators:**](#Binary-Operators) Operate on two operands (e.g., `a + b`, `x > y`). Binary operators are of 7 types:\n",
    "\t*   [Arithmetic Operators](#Arithmetic-Operators)\n",
    "\t*   [Assignment Operators](#Assignment-Operators)\n",
    "\t*   [Relational Operators](#Relational-Operators)\n",
    "\t*   [Logical Operators](#Logical-Operators)\n",
    "\t*   [Bitwise Operators](#Bitwise-Operators)\n",
    "\t*   [Membership Operators](#Membership-Operators)\n",
    "\t*   [Identity Operators](#Identity-Operators)\n",
    "*   [**Ternary Operators:**](#Ternary-Operators) Operate on three operands (Python has one: the conditional expression `x if C else y`)."
   ]
  },
  {
   "cell_type": "markdown",
   "metadata": {},
   "source": [
    "#### Unary Operators\n",
    "\n",
    "Operators that work with a single operand.\n",
    "\n",
    "*   `+` **Unary Plus:** Indicates a positive value (+a is equivalent to a).\n",
    "*   `-` **Unary Minus:** Negates the value of the operand.\n",
    "*   `~` **Bitwise Complement:** Inverts the bits of an integer (`~x` is equivalent to `-(x+1)`).\n",
    "*   `not` **Logical NOT:** Inverts the boolean value (`True` becomes `False`, `False` becomes `True`).\n",
    "\n",
    "**Examples:**"
   ]
  },
  {
   "cell_type": "code",
   "execution_count": 3,
   "metadata": {},
   "outputs": [
    {
     "name": "stdout",
     "output_type": "stream",
     "text": [
      "Output:\n",
      "Number: 10\n",
      "Unary Plus: 10\n",
      "Unary Minus: -10\n",
      "Bitwise Complement: -11\n",
      "Original Boolean: True\n",
      "Logical NOT: False\n"
     ]
    }
   ],
   "source": [
    "# When number is positive\n",
    "num = 10\n",
    "is_valid = True\n",
    "positive_num = +num  # Unary plus\n",
    "negative_num = -num  # Unary minus\n",
    "bitwise_comp = ~num  # Bitwise complement\n",
    "is_invalid = not is_valid\n",
    "\n",
    "print(f\"Output:\")\n",
    "print(f\"Number: {num}\")\n",
    "print(f\"Unary Plus: {positive_num}\")\n",
    "print(f\"Unary Minus: {negative_num}\")\n",
    "print(f\"Bitwise Complement: {bitwise_comp}\")\n",
    "print(f\"Original Boolean: {is_valid}\")\n",
    "print(f\"Logical NOT: {is_invalid}\")"
   ]
  },
  {
   "cell_type": "code",
   "execution_count": null,
   "metadata": {},
   "outputs": [
    {
     "name": "stdout",
     "output_type": "stream",
     "text": [
      "Number: -10\n",
      "Unary Plus: -10\n",
      "Unary Minus: 10\n",
      "Bitwise Complement: 9\n"
     ]
    }
   ],
   "source": [
    "# When number is negative\n",
    "num = -10\n",
    "positive_num = +num  # Unary plus\n",
    "negative_num = -num  # Unary minus\n",
    "bitwise_comp = ~num  # Bitwise complement\n",
    "\n",
    "print(f\"Output:\")\n",
    "print(f\"Number: {num}\")\n",
    "print(f\"Unary Plus: {positive_num}\")\n",
    "print(f\"Unary Minus: {negative_num}\")\n",
    "print(f\"Bitwise Complement: {bitwise_comp}\")"
   ]
  },
  {
   "cell_type": "markdown",
   "metadata": {},
   "source": [
    "#### Binary Operators\n",
    "\n",
    "Operators that work with two operands."
   ]
  },
  {
   "cell_type": "markdown",
   "metadata": {},
   "source": [
    "##### Arithmetic Operators\n",
    "\n",
    "Operators that perform mathematical operations on variables and values.\n",
    "\n",
    "*   `+` : Addition (`a + b`)\n",
    "*   `-` : Subtraction (`a - b`)\n",
    "*   `*` : Multiplication (`a * b`)\n",
    "*   `/` : Division (results in a float) (`a / b`)\n",
    "*   `%` : Modulus (remainder of division) (`a % b`)\n",
    "*   `//` : Floor Division (division rounded down to the nearest whole number) (`a // b`)\n",
    "*   `**` : Exponentiation (`a ** b` means a to the power of b)"
   ]
  },
  {
   "cell_type": "code",
   "execution_count": 1,
   "metadata": {},
   "outputs": [
    {
     "name": "stdout",
     "output_type": "stream",
     "text": [
      "Output:\n",
      "10 + 3 = 13\n",
      "10 - 3 = 7\n",
      "10 * 3 = 30\n",
      "10 / 3 = 3.3333333333333335\n",
      "10 % 3 = 1\n",
      "10 // 3 = 3\n",
      "10 ** 3 = 1000\n",
      "20 / 3 = 6.666666666666667\n",
      "20 // 3 = 6\n",
      "-10 / 3 = -3.3333333333333335\n",
      "-10 // 3 = -4\n"
     ]
    }
   ],
   "source": [
    "a = 10\n",
    "b = 3\n",
    "print(f\"Output:\")\n",
    "print(f\"{a} + {b} = {a + b}\")\t\t# Addition\n",
    "print(f\"{a} - {b} = {a - b}\")\t\t# Subtraction\n",
    "print(f\"{a} * {b} = {a * b}\")\t\t# Multiplication\n",
    "print(f\"{a} / {b} = {a / b}\")\t\t# Division\n",
    "print(f\"{a} % {b} = {a % b}\")\t\t# Modulus\n",
    "print(f\"{a} // {b} = {a // b}\")\t\t# Floor division\n",
    "print(f\"{a} ** {b} = {a ** b}\")\t\t# Exponentiation\n",
    "\n",
    "\n",
    "# Note the difference between / and //\n",
    "print(f\"20 / 3 = {20 / 3}\")\n",
    "print(f\"20 // 3 = {20 // 3}\")\n",
    "print(f\"-10 / 3 = {-10 / 3}\")\n",
    "print(f\"-10 // 3 = {-10 // 3}\") # Rounds down (towards negative infinity)"
   ]
  },
  {
   "cell_type": "markdown",
   "metadata": {},
   "source": [
    "##### Assignment Operators\n",
    "\n",
    "Used to assign values to variables.\n",
    "\n",
    "*   `=` : Assign (`x = 5`)\n",
    "*   `+=` : Add and assign (`x += 3` is equivalent to `x = x + 3`)\n",
    "*   `-=` : Subtract and assign (`x -= 3` is equivalent to `x = x - 3`)\n",
    "*   `*=` : Multiply and assign (`x *= 3` is equivalent to `x = x * 3`)\n",
    "*   `/=` : Divide and assign (`x /= 3` is equivalent to `x = x / 3`)\n",
    "*   `%=` : Modulus and assign (`x %= 3` is equivalent to `x = x % 3`)\n",
    "*   `**=` : Exponentiate and assign (`x **= 3` is equivalent to `x = x ** 3`)\n",
    "*   `//=` : Floor divide and assign (`x //= 3` is equivalent to `x = x // 3`)"
   ]
  },
  {
   "cell_type": "code",
   "execution_count": 2,
   "metadata": {},
   "outputs": [
    {
     "name": "stdout",
     "output_type": "stream",
     "text": [
      "Output:\n",
      "Initial x: 10\n",
      "After += 5: 15\n",
      "After -= 2: 13\n",
      "After *= 2: 26\n",
      "After %= 3: 2\n",
      "After **= 4: 16\n",
      "After //= 2: 8\n",
      "After /= 2: 4.0\n"
     ]
    }
   ],
   "source": [
    "print(f\"Output:\")\n",
    "\n",
    "x = 10\n",
    "print(f\"Initial x: {x}\")\n",
    "\n",
    "x += 5  # x = 10 + 5\n",
    "print(f\"After += 5: {x}\") # Output: 15\n",
    "\n",
    "x -= 2  # x = 15 - 2\n",
    "print(f\"After -= 2: {x}\") # Output: 13\n",
    "\n",
    "x *= 2  # x = 13 * 2\n",
    "print(f\"After *= 2: {x}\") # Output: 26\n",
    "\n",
    "x %= 3  # x = 26 % 3\n",
    "print(f\"After %= 3: {x}\") # Output: 2\n",
    "\n",
    "x **= 4 # x = 2 ** 4\n",
    "print(f\"After **= 4: {x}\") # Output: 16\n",
    "\n",
    "x //= 2 # x = 16 // 2\n",
    "print(f\"After //= 2: {x}\") # Output: 8\n",
    "\n",
    "x /=  2 #x = 8 / 2\n",
    "print(f\"After /= 2: {x}\") # Output: 4.0"
   ]
  },
  {
   "cell_type": "markdown",
   "metadata": {},
   "source": [
    "##### Relational Operators\n",
    "\n",
    "Used to compare two values. They return a Boolean value (`True` or `False`).\n",
    "\n",
    "*   `==` : Equal to (`a == b`)\n",
    "*   `!=` : Not equal to (`a != b`)\n",
    "*   `>` : Greater than (`a > b`)\n",
    "*   `<` : Less than (`a < b`)\n",
    "*   `>=` : Greater than or equal to (`a >= b`)\n",
    "*   `<=` : Less than or equal to (`a <= b`)"
   ]
  },
  {
   "cell_type": "code",
   "execution_count": 1,
   "metadata": {},
   "outputs": [
    {
     "name": "stdout",
     "output_type": "stream",
     "text": [
      "Output:\n",
      "10 == 5: False\n",
      "10 == 10: True\n",
      "10 != 5: True\n",
      "10 > 5: True\n",
      "10 < 5: False\n",
      "10 >= 10: True\n",
      "5 <= 10: True\n"
     ]
    }
   ],
   "source": [
    "a = 10\n",
    "b = 5\n",
    "c = 10\n",
    "\n",
    "print(f\"Output:\")\n",
    "print(f\"{a} == {b}: {a == b}\")   # False\n",
    "print(f\"{a} == {c}: {a == c}\")   # True\n",
    "print(f\"{a} != {b}: {a != b}\")   # True\n",
    "print(f\"{a} > {b}: {a > b}\")    # True\n",
    "print(f\"{a} < {b}: {a < b}\")    # False\n",
    "print(f\"{a} >= {c}: {a >= c}\")  # True\n",
    "print(f\"{b} <= {a}: {b <= a}\")  # True"
   ]
  },
  {
   "cell_type": "markdown",
   "metadata": {},
   "source": [
    "##### Logical Operators\n",
    "\n",
    "Used to combine conditional statements (usually involving comparison operators). They operate on boolean values (`True`, `False`) or objects that have a truthiness.\n",
    "\n",
    "*   `and` : Logical AND (returns `True` if both operands are true)\n",
    "*   `or` : Logical OR (returns `True` if at least one operand is true)"
   ]
  },
  {
   "cell_type": "code",
   "execution_count": 48,
   "metadata": {},
   "outputs": [
    {
     "name": "stdout",
     "output_type": "stream",
     "text": [
      "Output:\n",
      "(5 < 10) and (5 == 5): True\n",
      "(5 > 10) and (5 == 5): False\n",
      "(5 > 10) or (5 == 5): True\n",
      "(5 > 10) or (5 != 5): False\n",
      "\n",
      "Unusual behavior:\n",
      "True or (5 / 0): True\n",
      "False and (5 / 0): False\n"
     ]
    }
   ],
   "source": [
    "x = 5\n",
    "y = 10\n",
    "z = 5\n",
    "\n",
    "print(\"Output:\")\n",
    "# and example\n",
    "print(f\"({x} < {y}) and ({x} == {z}): {(x < y) and (x == z)}\") # True and True -> True\n",
    "print(f\"({x} > {y}) and ({x} == {z}): {(x > y) and (x == z)}\") # False and True -> False\n",
    "\n",
    "# or example\n",
    "print(f\"({x} > {y}) or ({x} == {z}): {(x > y) or (x == z)}\") # False or True -> True\n",
    "print(f\"({x} > {y}) or ({x} != {z}): {(x > y) or (x != z)}\") # False or False -> False\n",
    "\n",
    "# Unusual behavior of logical operators\n",
    "print(\"\\nUnusual behavior:\")\n",
    "print(f\"True or (5 / 0): {True or (5/0)}\") # Doesn't evaluate (5/0), returns True\n",
    "# print(f\"False or (5 / 0): {False or (5/0)}\") # Would cause ZeroDivisionError\n",
    "print(f\"False and (5 / 0): {False and (5/0)}\") # Doesn't evaluate (5/0), returns False\n",
    "# print(f\"True and (5 / 0): {True and (5/0)}\") # Would cause ZeroDivisionError"
   ]
  },
  {
   "cell_type": "markdown",
   "metadata": {},
   "source": [
    "##### Bitwise Operators\n",
    "\n",
    "Bitwise operators perform operations on variables and values at the binary level.\n",
    "\n",
    "*   `&` : Bitwise AND (sets each bit to 1 if both corresponding bits are 1)\n",
    "*   `|` : Bitwise OR (sets each bit to 1 if at least one corresponding bit is 1)\n",
    "*   `^` : Bitwise XOR (sets each bit to 1 if only one of the corresponding bits is 1)\n",
    "*   `<<` : Left Shift (shifts bits to the left, filling with zeros; equivalent to multiplying by 2^n)\n",
    "*   `>>` : Right Shift (shifts bits to the right; equivalent to floor dividing by 2^n)"
   ]
  },
  {
   "cell_type": "code",
   "execution_count": 50,
   "metadata": {},
   "outputs": [
    {
     "name": "stdout",
     "output_type": "stream",
     "text": [
      "Output:\n",
      "a = 10 (0b1010), b = 4 (0b100)\n",
      "a & b = 0 (0b0)\n",
      "a | b = 14 (0b1110)\n",
      "a ^ b = 14 (0b1110)\n",
      "a << 2 = 40 (0b101000)\n",
      "a >> 1 = 5 (0b101)\n"
     ]
    }
   ],
   "source": [
    "a = 10  # Binary: 0000 1010\n",
    "b = 4   # Binary: 0000 0100\n",
    "\n",
    "print(\"Output:\")\n",
    "\n",
    "print(f\"a = {a} ({bin(a)}), b = {b} ({bin(b)})\")\n",
    "\n",
    "# Bitwise AND\n",
    "result_and = a & b # 0000 1010 & 0000 0100 = 0000 0000 (Decimal 0)\n",
    "print(f\"a & b = {result_and} ({bin(result_and)})\")\n",
    "\n",
    "# Bitwise OR\n",
    "result_or = a | b # 0000 1010 | 0000 0100 = 0000 1110 (Decimal 14)\n",
    "print(f\"a | b = {result_or} ({bin(result_or)})\")\n",
    "\n",
    "# Bitwise XOR\n",
    "result_xor = a ^ b # 0000 1010 ^ 0000 0100 = 0000 1110 (Decimal 14)\n",
    "print(f\"a ^ b = {result_xor} ({bin(result_xor)})\")\n",
    "\n",
    "# Left Shift\n",
    "result_lshift = a << 2 # 0000 1010 << 2 = 0010 1000 (Decimal 40) (10 * 2^2)\n",
    "print(f\"a << 2 = {result_lshift} ({bin(result_lshift)})\")\n",
    "\n",
    "# Right Shift\n",
    "result_rshift = a >> 1 # 0000 1010 >> 1 = 0000 0101 (Decimal 5) (10 // 2^1)\n",
    "print(f\"a >> 1 = {result_rshift} ({bin(result_rshift)})\")"
   ]
  },
  {
   "cell_type": "markdown",
   "metadata": {},
   "source": [
    "##### Membership Operators\n",
    "\n",
    "Used to test if a sequence (like a list, tuple, string, set, or dictionary keys) contains a specific value.\n",
    "\n",
    "*   `in` : Returns `True` if a value is found in the sequence.\n",
    "*   `not in` : Returns `True` if a value is **not** found in the sequence."
   ]
  },
  {
   "cell_type": "code",
   "execution_count": 51,
   "metadata": {},
   "outputs": [
    {
     "name": "stdout",
     "output_type": "stream",
     "text": [
      "3 in my_list: True\n",
      "'orange' in my_list: False\n",
      "'H' in my_string: True\n",
      "'World' in my_string: True\n",
      "'a' in my_dict: True\n",
      "1 in my_dict: False\n",
      "4 not in my_list: True\n",
      "'apple' not in my_list: False\n",
      "'z' not in my_string: True\n"
     ]
    }
   ],
   "source": [
    "my_list = [1, 2, 3, \"apple\", \"banana\"]\n",
    "my_string = \"Hello World\"\n",
    "my_dict = {\"a\": 1, \"b\": 2}\n",
    "\n",
    "# 'in' examples\n",
    "print(f\"3 in my_list: {3 in my_list}\")             # True\n",
    "print(f\"'orange' in my_list: {'orange' in my_list}\") # False\n",
    "print(f\"'H' in my_string: {'H' in my_string}\")       # True\n",
    "print(f\"'World' in my_string: {'World' in my_string}\") # True\n",
    "print(f\"'a' in my_dict: {'a' in my_dict}\")           # True (checks keys by default)\n",
    "print(f\"1 in my_dict: {1 in my_dict}\")             # False (checks keys, not values)\n",
    "\n",
    "# 'not in' examples\n",
    "print(f\"4 not in my_list: {4 not in my_list}\")         # True\n",
    "print(f\"'apple' not in my_list: {'apple' not in my_list}\") # False\n",
    "print(f\"'z' not in my_string: {'z' not in my_string}\")   # True"
   ]
  },
  {
   "cell_type": "markdown",
   "metadata": {},
   "source": [
    "##### Identity Operators\n",
    "\n",
    "Used to compare the memory locations of two objects (i.e., whether they are the exact same object). Return `True` or `False`.\n",
    "\n",
    "*   `is` : Returns `True` if both variables point to the **same object** in memory.\n",
    "*   `is not` : Returns `True` if both variables point to **different objects** in memory.\n",
    "\n",
    "> **`is` vs `==`:**\n",
    "> *   `==` (Equality) checks if the **values** of two operands are equal.\n",
    "> *   `is` (Identity) checks if two operands refer to the **exact same object instance**.\n",
    ">\n",
    "> For immutable types like small integers and strings, Python often reuses objects, so `is` might return `True` even for different variables if they hold the same value. However, for mutable objects like lists, `is` will only be `True` if they are truly the same instance."
   ]
  },
  {
   "cell_type": "code",
   "execution_count": 70,
   "metadata": {},
   "outputs": [
    {
     "name": "stdout",
     "output_type": "stream",
     "text": [
      "Output:\n",
      "a == b: True\n",
      "a is b: False\n",
      "a is c: True\n",
      "str1 == str2: True\n",
      "str1 is str2: True\n",
      "\n",
      "list1 == list2: True\n",
      "list1 is list2: False\n",
      "list1 == list3: True\n",
      "list1 is list3: True\n",
      "\n",
      "After list3 appends:\n",
      "list1: [1, 2, 3, 4]\n",
      "list3: [1, 2, 3, 4]\n",
      "list2: [1, 2, 3]\n",
      "list1 == list3: True\n",
      "list1 is list3: True\n"
     ]
    }
   ],
   "source": [
    "# Immutable types (small integers, strings - Python might reuse objects)\n",
    "a = 1000\n",
    "b = 1000\n",
    "c = a\n",
    "str1 = \"hello\"\n",
    "str2 = \"hello\"\n",
    "\n",
    "print(\"Output:\")\n",
    "\n",
    "print(f\"a == b: {a == b}\")     # True (values are equal)\n",
    "print(f\"a is b: {a is b}\")\t   # Often true for integers due to Python's object reuse, but not guaranteed\n",
    "print(f\"a is c: {a is c}\")     # True (c points to the same object as a)\n",
    "print(f\"str1 == str2: {str1 == str2}\") # True (values are equal)\n",
    "print(f\"str1 is str2: {str1 is str2}\") # Often True due to python object reuse, but not guaranteed\n",
    "\n",
    "# Mutable types (lists)\n",
    "list1 = [1, 2, 3]\n",
    "list2 = [1, 2, 3]\n",
    "list3 = list1\n",
    "\n",
    "print(f\"\\nlist1 == list2: {list1 == list2}\") # True (values are equal)\n",
    "print(f\"list1 is list2: {list1 is list2}\") # False (different objects in memory)\n",
    "print(f\"list1 == list3: {list1 == list3}\") # True (values are equal)\n",
    "print(f\"list1 is list3: {list1 is list3}\") # True (list3 points to the same object as list1)\n",
    "\n",
    "# Modifying list3 affects list1 also as they are pointing to the same object\n",
    "list3.append(4)\n",
    "\n",
    "print(f\"\\nAfter list3 appends:\")\n",
    "print(f\"list1: {list1}\") # list1 is also modified as list3 is a reference to it list1\n",
    "print(f\"list3: {list3}\")\n",
    "print(f\"list2: {list2}\") # list2 remains unchanged\n",
    "# after appending list3 compare again compare it to list1\n",
    "print(f\"list1 == list3: {list1 == list3}\") # True (values are equal)\n",
    "print(f\"list1 is list3: {list1 is list3}\") # True (list3 points to the same object as list1)"
   ]
  },
  {
   "cell_type": "markdown",
   "metadata": {},
   "source": [
    "#### Ternary Operator \n",
    "\n",
    "##### Conditional Expression\n",
    "\n",
    "Python has one ternary operator, which provides a concise way to write a simple `if-else` statement in a single line.\n",
    "\n",
    "**Syntax:** `value_if_true if condition else value_if_false`\n",
    "\n",
    "The `condition` is evaluated first. If it's `True`, the expression evaluates to `value_if_true`; otherwise, it evaluates to `value_if_false`."
   ]
  },
  {
   "cell_type": "code",
   "execution_count": 86,
   "metadata": {},
   "outputs": [
    {
     "name": "stdout",
     "output_type": "stream",
     "text": [
      "Output:\n",
      "Age = 20\n",
      "Status (\"Adult\" if age >= 18 else \"Minor\"): Adult\n",
      "Max of 15 and 10 is: 15\n"
     ]
    }
   ],
   "source": [
    "age = 20\n",
    "\n",
    "print(\"Output:\")\n",
    "\n",
    "print(f\"Age = {age}\")\n",
    "# Equivalent using ternary operator\n",
    "status = \"Adult\" if age >= 18 else \"Minor\"\n",
    "print(f\"Status (\\\"Adult\\\" if age >= 18 else \\\"Minor\\\"): {status}\")\n",
    "\n",
    "# Another example: finding the maximum of two numbers\n",
    "a = 15\n",
    "b = 10\n",
    "max_val = a if a > b else b\n",
    "print(f\"Max of {a} and {b} is: {max_val}\")"
   ]
  },
  {
   "cell_type": "markdown",
   "metadata": {},
   "source": [
    "### Punctuators (Separators)\n",
    "\n",
    "Punctuators are symbols used to structure Python code, defining the boundaries and arrangement of statements, expressions, and code blocks.\n",
    "\n",
    "**Example:**\n",
    "`Hash #`, `Parentheses ()`, `Brackets []`, `Braces {}`, `Colon :`, `Semicolon ;`, `Comma ,`, `Dot .`"
   ]
  },
  {
   "cell_type": "markdown",
   "metadata": {},
   "source": [
    "### Playground\n",
    "\n",
    "Use the cell below to experiment with the concepts covered in this lecture."
   ]
  },
  {
   "cell_type": "code",
   "execution_count": 87,
   "metadata": {},
   "outputs": [],
   "source": [
    "# Playground - Try out keywords, identifiers, literals, operators, punctuators here!"
   ]
  }
 ],
 "metadata": {
  "kernelspec": {
   "display_name": ".venv",
   "language": "python",
   "name": "python3"
  },
  "language_info": {
   "codemirror_mode": {
    "name": "ipython",
    "version": 3
   },
   "file_extension": ".py",
   "mimetype": "text/x-python",
   "name": "python",
   "nbconvert_exporter": "python",
   "pygments_lexer": "ipython3",
   "version": "3.13.1"
  }
 },
 "nbformat": 4,
 "nbformat_minor": 2
}
