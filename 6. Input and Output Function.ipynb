{
 "cells": [
  {
   "cell_type": "markdown",
   "id": "e26de3f2",
   "metadata": {},
   "source": [
    "\n",
    "# **Input and Output function:**\n"
   ]
  },
  {
   "cell_type": "markdown",
   "id": "79fbd0ca",
   "metadata": {},
   "source": [
    "## input() function\n",
    "In python function is used to take input from the users. Input function returns a string.\n",
    "\n",
    "```python\n",
    "syntax:   \n",
    "variable  = input(\"Prompt to user\")\n",
    "  \n",
    "# Example\n",
    "a = int(input(\"Enter a number\"))\n",
    "print(a)\n",
    "```\n",
    "\n",
    "> As input function always return string type, so when we want a integer or a float value from the user then we have to convert it to the required type. This is known as `type conversion` or `typecasting`.  \n",
    "> Type conversion is of 2 types.\n",
    "> `Implicit Conversion` - Python sometimes automatically change the data type of the variable.\n",
    "> `Explicit Conversion (typecasting)` - When we explicitly convert the data type of the variable using functions like int(), float(), str() etc. "
   ]
  },
  {
   "cell_type": "code",
   "execution_count": 6,
   "id": "9491df8f",
   "metadata": {},
   "outputs": [
    {
     "name": "stdout",
     "output_type": "stream",
     "text": [
      "1\n",
      "<class 'int'>\n",
      "1.0\n",
      "<class 'float'>\n"
     ]
    }
   ],
   "source": [
    "a = 1  # a is declared integer\n",
    "print(a)\n",
    "print(type(a))\n",
    "a = 2 / 2  # a is implicitly converted to float\n",
    "print(a)\n",
    "print(type(a))"
   ]
  },
  {
   "cell_type": "markdown",
   "id": "27b64092",
   "metadata": {},
   "source": [
    "> `Explicit Conversion` - In this you have to use int(), float() or str() function to manually do type conversion\n"
   ]
  },
  {
   "cell_type": "code",
   "execution_count": 7,
   "id": "32ed34a9",
   "metadata": {},
   "outputs": [
    {
     "name": "stdout",
     "output_type": "stream",
     "text": [
      "1\n",
      "<class 'int'>\n",
      "1.0\n",
      "<class 'float'>\n",
      "1.0\n",
      "<class 'str'>\n"
     ]
    }
   ],
   "source": [
    "a = 1  # a is declared integer\n",
    "print(a)\n",
    "print(type(a))\n",
    "a = float(a)  # a is explicitly converted to float\n",
    "print(a)\n",
    "print(type(a))\n",
    "a = str(a)  # a is explicitly converted to string\n",
    "print(a)\n",
    "print(type(a))"
   ]
  },
  {
   "cell_type": "markdown",
   "id": "e7e88983",
   "metadata": {},
   "source": [
    "## print() function\n",
    "\n",
    "print() function is used to print the output to standard output device usually a screen.\n",
    "\n",
    "```python\n",
    "syntax: print(value, sep, end)\n",
    "```"
   ]
  },
  {
   "cell_type": "code",
   "execution_count": 1,
   "id": "c5d01377",
   "metadata": {},
   "outputs": [
    {
     "name": "stdout",
     "output_type": "stream",
     "text": [
      "Hello World\n",
      "2\n",
      "5\n",
      "Sum of 2 no's a: 2 and b: 5 is 7\n"
     ]
    }
   ],
   "source": [
    "# Example\n",
    "print(\"Hello World\")\n",
    "\n",
    "a = 2\n",
    "print(a)\n",
    "b = 5\n",
    "print(b)\n",
    "print(\"Sum of 2 no's a:\", a, \"and b:\", b, \"is\", a + b)"
   ]
  },
  {
   "cell_type": "markdown",
   "id": "234889e8",
   "metadata": {},
   "source": [
    "- print() fucntion automatically converts the value to string. If you are printing a integer or a float type value then print() function will automatically convert it to string before printing, and for numerical expression it will first evaluate the expression and then convert the result to string before print it.\n",
    "\n",
    "- print() function automatically add the space between every objects printed in a line. In python print function take sep (separator) argumet and the default value of sep is \" \" (one space).\n",
    "```python\n",
    "print(\"Hello\", \"World\", sep = \" \")\n",
    "\n",
    "# above print statement can also written as\n",
    "print(\"Hello\", \"World\")\t\t# we can remove sep argument, as default value of sep is \" \"\n",
    "```\n",
    "\n",
    "- print() function automatically adds a new line at the end of the output. In python print function take end (end character) argument and the default value of end is \"\\n\" (new line).\n",
    "```python\n",
    "print(\"Hi\", end = \"\\n\")\n",
    "print(\"Hello World\", end = \"\\n\")\n",
    "\n",
    "# above print statements result can also be replicated by \n",
    "print(\"Hi\") \t# we can remove end argument, as default value of end is \"\\n\"\n",
    "print(\"Hello World\")\n",
    "```\n"
   ]
  },
  {
   "cell_type": "code",
   "execution_count": 3,
   "id": "b852e5d8",
   "metadata": {},
   "outputs": [
    {
     "name": "stdout",
     "output_type": "stream",
     "text": [
      "Hello World\n",
      "Hello World\n",
      "Hi\n",
      "Hello World\n",
      "Hi\n",
      "Hello World\n"
     ]
    }
   ],
   "source": [
    "print(\"Hello\", \"World\", sep=\" \")\n",
    "print(\"Hello\", \"World\")  # we can remove sep argument, as default value of sep is \" \"\n",
    "\n",
    "print(\"Hi\", end=\"\\n\")\n",
    "print(\"Hello World\", end=\"\\n\")\n",
    "print(\"Hi\")  # we can remove end argument, as default value of end is \"\\n\"\n",
    "print(\"Hello World\")"
   ]
  },
  {
   "cell_type": "markdown",
   "id": "c2207fd3",
   "metadata": {},
   "source": [
    "### sep & end arguments\n",
    "\n",
    "- sep argument is used to add a specified separator between every object printed in a line.\n",
    "\n",
    "- end argument is used to add a specified end character at the end of the print statement.\n",
    "  \n",
    "Default value of end is \"\\n\" (new line) and default value of sep is \" \" (one space).\n",
    "\n",
    "Example:"
   ]
  },
  {
   "cell_type": "code",
   "execution_count": 17,
   "id": "1a018d55",
   "metadata": {},
   "outputs": [
    {
     "name": "stdout",
     "output_type": "stream",
     "text": [
      "Hello World\n",
      "\n",
      "Hello----World\n",
      "\n",
      "Hello\n",
      "World\n",
      "\n",
      "Hello\n",
      "World\n",
      "\n",
      "\n",
      "Hello World\n",
      "\n",
      "\n",
      "Hello@World@"
     ]
    }
   ],
   "source": [
    "print(\"Hello\", \"World\\n\", sep=\" \")\n",
    "\n",
    "print(\"Hello\", \"World\\n\", sep=\"----\")\n",
    "\n",
    "print(\"Hello\", \"World\\n\", sep=\"\\n\")\n",
    "\n",
    "print(\"Hello\", end=\"\\n\")\n",
    "print(\"World\", end=\"\\n\")\n",
    "print(\"\\n\")\n",
    "\n",
    "print(\"Hello\", end=\" \")\n",
    "print(\"World\", end=\"\\n\")\n",
    "print(\"\\n\")\n",
    "\n",
    "print(\"Hello\", end=\"@\")\n",
    "print(\"World\", end=\"@\")"
   ]
  },
  {
   "cell_type": "markdown",
   "id": "f4714fc6",
   "metadata": {},
   "source": [
    "### String formatting\n",
    "In python, string formatting is a way to create strings that include variables or expressions. There are several methods for string formatting in Python:\n",
    "\n",
    "### using %operator\n",
    "The `%` operator is used for string formatting in Python. It allows you to embed values into a string using placeholders like `%s` for strings, `%d` for integers, and `%f` for floating-point numbers.\n",
    "\n",
    "### using str.format()\n",
    "The `str.format()` method is used to format strings in Python. It allows you to embed values into a string using curly braces `{}` as placeholders.\n",
    "\n",
    "### using f-strings (formatted string literals)\n",
    "f-strings are a way to format strings in Python (introduced in Python 3.6). They allow you to embed expressions inside strings using curly braces `{}` as placeholders. The `f` before the string indicates that it is an f-string.\n",
    "\n",
    "### t-string (Template strings)\n",
    "Template strings are a way to format strings in Python (introduced in Python 3.14). They allow you to embed expressions inside strings using `$` as placeholders. Template strings are useful for creating strings that can be easily modified or reused."
   ]
  },
  {
   "cell_type": "code",
   "execution_count": 41,
   "id": "048917bc",
   "metadata": {},
   "outputs": [
    {
     "name": "stdout",
     "output_type": "stream",
     "text": [
      "My name is Sonam and I am 30 years old. \n",
      "\n",
      "My name is Sonam and I am 30 years old. \n",
      "\n",
      "My name is Sonam and I am 30 years old. \n",
      "\n",
      "Value of pi to 2 decimal places: 3.14\n",
      "\n",
      "My name is Sonam and I am 30 years old.\n",
      "My name is Thinley and I am 25 years old.\n"
     ]
    }
   ],
   "source": [
    "# % operator\n",
    "name = \"Sonam\"\n",
    "age = 30\n",
    "formatted_string = \"My name is %s and I am %d years old.\" % (name, age)\n",
    "print(formatted_string,\"\\n\")  # Output: My name is Sonam and I am 30 years old.\n",
    "\n",
    "# str.format()\n",
    "name = \"Sonam\"\n",
    "age = 30\n",
    "formatted_string = \"My name is {} and I am {} years old.\".format(name, age)\n",
    "print(formatted_string,\"\\n\")  # Output: My name is Sonam and I am 30 years old.\n",
    "\n",
    "# f-strings\n",
    "name = \"Sonam\"\n",
    "age = 30\n",
    "formatted_string = f\"My name is {name} and I am {age} years old.\"\n",
    "print(formatted_string,\"\\n\")  # Output: My name is Sonam and I am 30 years old.\n",
    "\n",
    "pi = 3.14159265\n",
    "print(f\"Value of pi to 2 decimal places: {pi:.2f}\\n\")\n",
    "\n",
    "# t-strings\n",
    "from string import Template as t\n",
    "template = t(\"My name is $name and I am $age years old.\")\n",
    "result = template.substitute(name = \"Sonam\", age = 30)\n",
    "print(result)  # Output: My name is Sonam and I am 30 years old.\n",
    "result = template.substitute(name = \"Thinley\", age = 25)\t# reusing the same template with different values\n",
    "print(result)  # Output: My name is Thinley and I am 25 years old."
   ]
  },
  {
   "cell_type": "markdown",
   "id": "592cf089",
   "metadata": {},
   "source": [
    "## Reference\n",
    "- [Python f-string: A Complete Guide](https://www.datacamp.com/tutorial/python-f-string)\n",
    "- [Python String Formatting Advances with PEP 750 and T Strings](https://medium.com/h7w/python-string-formatting-advances-with-pep-750-and-t-strings-e1bdd7b7f111)"
   ]
  },
  {
   "cell_type": "markdown",
   "id": "5eb32ee6",
   "metadata": {},
   "source": [
    "## Playground"
   ]
  },
  {
   "cell_type": "code",
   "execution_count": null,
   "id": "059204c8",
   "metadata": {},
   "outputs": [],
   "source": [
    "# Playground"
   ]
  }
 ],
 "metadata": {
  "kernelspec": {
   "display_name": ".venv",
   "language": "python",
   "name": "python3"
  },
  "language_info": {
   "codemirror_mode": {
    "name": "ipython",
    "version": 3
   },
   "file_extension": ".py",
   "mimetype": "text/x-python",
   "name": "python",
   "nbconvert_exporter": "python",
   "pygments_lexer": "ipython3",
   "version": "3.13.1"
  }
 },
 "nbformat": 4,
 "nbformat_minor": 5
}
